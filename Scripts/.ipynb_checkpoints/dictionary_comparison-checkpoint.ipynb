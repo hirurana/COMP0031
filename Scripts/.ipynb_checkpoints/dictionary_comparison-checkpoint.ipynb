{
 "cells": [
  {
   "cell_type": "code",
   "execution_count": 1,
   "metadata": {},
   "outputs": [],
   "source": [
    "import pandas as pd\n",
    "from langdetect import detect\n",
    "import numpy as np\n",
    "import nltk\n",
    "from nltk.stem import WordNetLemmatizer\n",
    "import string\n",
    "from sklearn.feature_extraction.text import CountVectorizer"
   ]
  },
  {
   "cell_type": "code",
   "execution_count": 2,
   "metadata": {},
   "outputs": [],
   "source": [
    "lem = WordNetLemmatizer() #create lemmatizer"
   ]
  },
  {
   "cell_type": "code",
   "execution_count": 2,
   "metadata": {},
   "outputs": [],
   "source": [
    "df = pd.read_csv('../data/processedDict.csv')"
   ]
  },
  {
   "cell_type": "code",
   "execution_count": 5,
   "metadata": {},
   "outputs": [
    {
     "data": {
      "text/plain": [
       "'information|recommendation|tip|advice|suggestion|direction|instruction|useful|detail|info|explained|communication|question|quick|quickly|communicative|communicate|respond|responded|answer|answered|prompt|communicated|text|request|question|promptly|communicating|request|communication|answering|email|response|responding|communicator|response|concern|responds|replied|reply|query|text|inquiry|answer|check|provided|arrival|arrived|late|offered|key|hour|key|flight|prepared|reception|checking|checked|departure|waiting|arriving|timely|punctual|checkout|checkin|punctuality|helpful|welcoming|available|accommodating|welcome|responsive|help|welcomed|need|helped|flexible|hospitality|attentive|incredibly|greeted|ready|hospitable|organized|generous|availability|warmly|considerate|caring|precise|helping|uncomplicated|reliable|impeccable|respectful|accomodating|arrangement|organised|generosity|responsible|discrete|location|from|close|quiet|area|walk|located|restaurant|city|neighborhood|get|away|walking|around|minute|beach|few|convenient|distance|street|town|many|shop|central|station|metro|downtown|place|lot|centre|within|parking|near|access|bus|minute|bar|nearby|park|safe|local|center|amenity|car|building|far|outside|drive|easily|train|cool|airport|stop|subway|heart|still|reach|step|shopping|transport|attraction|restaurant|grocery|foot|neighbourhood|road|market|corner|transportation|across|centrally|situated|store|sea|cafe|conveniently|store|district|supermarket|walkable|tram|residential|beach|village|historic|river|taxi|stop|min|proximity|shop|spot|sight|facility|supermarket|station|transit|served|connected|nightlife|tube|cafe|typical|bakery|pub|reachable|market|underground|bakery|apartment|house|home|flat|private|building|pool|property|garden|terrace|cabin|balcony|apt|appartment|backyard|roof|garden|water|hot|wifi|towel|tv|fridge|internet|facility|laundry|sheet|microwave|toiletry|heater|pillow|blanket|shampoo|refrigerator|clean|comfortable|room|bed|kitchen|spacious|small|cozy|bathroom|equipped|exactly|large|described|cute|shower|living|bedroom|picture|bed|comfy|decorated|photo|modern|room|bright|cosy|furnished|functional|size|bedroom|decor|tidy|bath|bathroom|neat|furniture|pictured|toilet|sofa|spotless|picture|shower|sized|breakfast|delicious|fresh|dinner|meal|together|breakfast|cooked|her|she|he|his|they|family|their|friend|them|husband|friend|him|wife|daughter|son|boyfriend|girlfriend|company|mother|mom|herself|himself|hers|shes|friendly|kind|warm|charming|sweet|gracious|interesting|adorable|inviting|delightful|relaxed|kindness|calm|polite|courteous|warmth|funny|easygoing|sympathy|shared|share|sharing|experience|story|interest|chat|conversation|conversation|talking|chatting|moment|chat|talk'"
      ]
     },
     "execution_count": 5,
     "metadata": {},
     "output_type": "execute_result"
    }
   ],
   "source": [
    "lemmatised_words = []\n",
    "df['word'] = df['word'].apply(lambda x: lem.lemmatize(x, pos='n'))\n",
    "pattern = '|'.join(df['word']) #augment dictionary to pattern form -> used for vectorised function application\n",
    "pattern"
   ]
  },
  {
   "cell_type": "code",
   "execution_count": 6,
   "metadata": {},
   "outputs": [
    {
     "ename": "KeyError",
     "evalue": "'Unnamed: 0'",
     "output_type": "error",
     "traceback": [
      "\u001b[0;31m---------------------------------------------------------------------------\u001b[0m",
      "\u001b[0;31mKeyError\u001b[0m                                  Traceback (most recent call last)",
      "\u001b[0;32m~/opt/anaconda3/lib/python3.7/site-packages/pandas/core/indexes/base.py\u001b[0m in \u001b[0;36mget_loc\u001b[0;34m(self, key, method, tolerance)\u001b[0m\n\u001b[1;32m   2896\u001b[0m             \u001b[0;32mtry\u001b[0m\u001b[0;34m:\u001b[0m\u001b[0;34m\u001b[0m\u001b[0;34m\u001b[0m\u001b[0m\n\u001b[0;32m-> 2897\u001b[0;31m                 \u001b[0;32mreturn\u001b[0m \u001b[0mself\u001b[0m\u001b[0;34m.\u001b[0m\u001b[0m_engine\u001b[0m\u001b[0;34m.\u001b[0m\u001b[0mget_loc\u001b[0m\u001b[0;34m(\u001b[0m\u001b[0mkey\u001b[0m\u001b[0;34m)\u001b[0m\u001b[0;34m\u001b[0m\u001b[0;34m\u001b[0m\u001b[0m\n\u001b[0m\u001b[1;32m   2898\u001b[0m             \u001b[0;32mexcept\u001b[0m \u001b[0mKeyError\u001b[0m\u001b[0;34m:\u001b[0m\u001b[0;34m\u001b[0m\u001b[0;34m\u001b[0m\u001b[0m\n",
      "\u001b[0;32mpandas/_libs/index.pyx\u001b[0m in \u001b[0;36mpandas._libs.index.IndexEngine.get_loc\u001b[0;34m()\u001b[0m\n",
      "\u001b[0;32mpandas/_libs/index.pyx\u001b[0m in \u001b[0;36mpandas._libs.index.IndexEngine.get_loc\u001b[0;34m()\u001b[0m\n",
      "\u001b[0;32mpandas/_libs/hashtable_class_helper.pxi\u001b[0m in \u001b[0;36mpandas._libs.hashtable.PyObjectHashTable.get_item\u001b[0;34m()\u001b[0m\n",
      "\u001b[0;32mpandas/_libs/hashtable_class_helper.pxi\u001b[0m in \u001b[0;36mpandas._libs.hashtable.PyObjectHashTable.get_item\u001b[0;34m()\u001b[0m\n",
      "\u001b[0;31mKeyError\u001b[0m: 'Unnamed: 0'",
      "\nDuring handling of the above exception, another exception occurred:\n",
      "\u001b[0;31mKeyError\u001b[0m                                  Traceback (most recent call last)",
      "\u001b[0;32m<ipython-input-6-788c9e3a04ac>\u001b[0m in \u001b[0;36m<module>\u001b[0;34m\u001b[0m\n\u001b[1;32m      1\u001b[0m \u001b[0mfilepath\u001b[0m \u001b[0;34m=\u001b[0m \u001b[0;34m'../data/en_reviews/london_en.csv'\u001b[0m\u001b[0;34m\u001b[0m\u001b[0;34m\u001b[0m\u001b[0m\n\u001b[1;32m      2\u001b[0m \u001b[0mreviews\u001b[0m \u001b[0;34m=\u001b[0m \u001b[0mpd\u001b[0m\u001b[0;34m.\u001b[0m\u001b[0mread_csv\u001b[0m\u001b[0;34m(\u001b[0m\u001b[0mfilepath\u001b[0m\u001b[0;34m)\u001b[0m\u001b[0;34m\u001b[0m\u001b[0;34m\u001b[0m\u001b[0m\n\u001b[0;32m----> 3\u001b[0;31m \u001b[0;32mdel\u001b[0m \u001b[0mreviews\u001b[0m\u001b[0;34m[\u001b[0m\u001b[0;34m'Unnamed: 0'\u001b[0m\u001b[0;34m]\u001b[0m\u001b[0;34m\u001b[0m\u001b[0;34m\u001b[0m\u001b[0m\n\u001b[0m\u001b[1;32m      4\u001b[0m \u001b[0mcomments_original\u001b[0m \u001b[0;34m=\u001b[0m \u001b[0mreviews\u001b[0m\u001b[0;34m[\u001b[0m\u001b[0;34m'comments'\u001b[0m\u001b[0;34m]\u001b[0m \u001b[0;31m#to add back before saving to csv\u001b[0m\u001b[0;34m\u001b[0m\u001b[0;34m\u001b[0m\u001b[0m\n\u001b[1;32m      5\u001b[0m \u001b[0mreviews\u001b[0m\u001b[0;34m\u001b[0m\u001b[0;34m\u001b[0m\u001b[0m\n",
      "\u001b[0;32m~/opt/anaconda3/lib/python3.7/site-packages/pandas/core/generic.py\u001b[0m in \u001b[0;36m__delitem__\u001b[0;34m(self, key)\u001b[0m\n\u001b[1;32m   3514\u001b[0m             \u001b[0;31m# there was no match, this call should raise the appropriate\u001b[0m\u001b[0;34m\u001b[0m\u001b[0;34m\u001b[0m\u001b[0;34m\u001b[0m\u001b[0m\n\u001b[1;32m   3515\u001b[0m             \u001b[0;31m# exception:\u001b[0m\u001b[0;34m\u001b[0m\u001b[0;34m\u001b[0m\u001b[0;34m\u001b[0m\u001b[0m\n\u001b[0;32m-> 3516\u001b[0;31m             \u001b[0mself\u001b[0m\u001b[0;34m.\u001b[0m\u001b[0m_data\u001b[0m\u001b[0;34m.\u001b[0m\u001b[0mdelete\u001b[0m\u001b[0;34m(\u001b[0m\u001b[0mkey\u001b[0m\u001b[0;34m)\u001b[0m\u001b[0;34m\u001b[0m\u001b[0;34m\u001b[0m\u001b[0m\n\u001b[0m\u001b[1;32m   3517\u001b[0m \u001b[0;34m\u001b[0m\u001b[0m\n\u001b[1;32m   3518\u001b[0m         \u001b[0;31m# delete from the caches\u001b[0m\u001b[0;34m\u001b[0m\u001b[0;34m\u001b[0m\u001b[0;34m\u001b[0m\u001b[0m\n",
      "\u001b[0;32m~/opt/anaconda3/lib/python3.7/site-packages/pandas/core/internals/managers.py\u001b[0m in \u001b[0;36mdelete\u001b[0;34m(self, item)\u001b[0m\n\u001b[1;32m    994\u001b[0m         \u001b[0mDelete\u001b[0m \u001b[0mselected\u001b[0m \u001b[0mitem\u001b[0m \u001b[0;34m(\u001b[0m\u001b[0mitems\u001b[0m \u001b[0;32mif\u001b[0m \u001b[0mnon\u001b[0m\u001b[0;34m-\u001b[0m\u001b[0munique\u001b[0m\u001b[0;34m)\u001b[0m \u001b[0;32min\u001b[0m\u001b[0;34m-\u001b[0m\u001b[0mplace\u001b[0m\u001b[0;34m.\u001b[0m\u001b[0;34m\u001b[0m\u001b[0;34m\u001b[0m\u001b[0m\n\u001b[1;32m    995\u001b[0m         \"\"\"\n\u001b[0;32m--> 996\u001b[0;31m         \u001b[0mindexer\u001b[0m \u001b[0;34m=\u001b[0m \u001b[0mself\u001b[0m\u001b[0;34m.\u001b[0m\u001b[0mitems\u001b[0m\u001b[0;34m.\u001b[0m\u001b[0mget_loc\u001b[0m\u001b[0;34m(\u001b[0m\u001b[0mitem\u001b[0m\u001b[0;34m)\u001b[0m\u001b[0;34m\u001b[0m\u001b[0;34m\u001b[0m\u001b[0m\n\u001b[0m\u001b[1;32m    997\u001b[0m \u001b[0;34m\u001b[0m\u001b[0m\n\u001b[1;32m    998\u001b[0m         \u001b[0mis_deleted\u001b[0m \u001b[0;34m=\u001b[0m \u001b[0mnp\u001b[0m\u001b[0;34m.\u001b[0m\u001b[0mzeros\u001b[0m\u001b[0;34m(\u001b[0m\u001b[0mself\u001b[0m\u001b[0;34m.\u001b[0m\u001b[0mshape\u001b[0m\u001b[0;34m[\u001b[0m\u001b[0;36m0\u001b[0m\u001b[0;34m]\u001b[0m\u001b[0;34m,\u001b[0m \u001b[0mdtype\u001b[0m\u001b[0;34m=\u001b[0m\u001b[0mnp\u001b[0m\u001b[0;34m.\u001b[0m\u001b[0mbool_\u001b[0m\u001b[0;34m)\u001b[0m\u001b[0;34m\u001b[0m\u001b[0;34m\u001b[0m\u001b[0m\n",
      "\u001b[0;32m~/opt/anaconda3/lib/python3.7/site-packages/pandas/core/indexes/base.py\u001b[0m in \u001b[0;36mget_loc\u001b[0;34m(self, key, method, tolerance)\u001b[0m\n\u001b[1;32m   2897\u001b[0m                 \u001b[0;32mreturn\u001b[0m \u001b[0mself\u001b[0m\u001b[0;34m.\u001b[0m\u001b[0m_engine\u001b[0m\u001b[0;34m.\u001b[0m\u001b[0mget_loc\u001b[0m\u001b[0;34m(\u001b[0m\u001b[0mkey\u001b[0m\u001b[0;34m)\u001b[0m\u001b[0;34m\u001b[0m\u001b[0;34m\u001b[0m\u001b[0m\n\u001b[1;32m   2898\u001b[0m             \u001b[0;32mexcept\u001b[0m \u001b[0mKeyError\u001b[0m\u001b[0;34m:\u001b[0m\u001b[0;34m\u001b[0m\u001b[0;34m\u001b[0m\u001b[0m\n\u001b[0;32m-> 2899\u001b[0;31m                 \u001b[0;32mreturn\u001b[0m \u001b[0mself\u001b[0m\u001b[0;34m.\u001b[0m\u001b[0m_engine\u001b[0m\u001b[0;34m.\u001b[0m\u001b[0mget_loc\u001b[0m\u001b[0;34m(\u001b[0m\u001b[0mself\u001b[0m\u001b[0;34m.\u001b[0m\u001b[0m_maybe_cast_indexer\u001b[0m\u001b[0;34m(\u001b[0m\u001b[0mkey\u001b[0m\u001b[0;34m)\u001b[0m\u001b[0;34m)\u001b[0m\u001b[0;34m\u001b[0m\u001b[0;34m\u001b[0m\u001b[0m\n\u001b[0m\u001b[1;32m   2900\u001b[0m         \u001b[0mindexer\u001b[0m \u001b[0;34m=\u001b[0m \u001b[0mself\u001b[0m\u001b[0;34m.\u001b[0m\u001b[0mget_indexer\u001b[0m\u001b[0;34m(\u001b[0m\u001b[0;34m[\u001b[0m\u001b[0mkey\u001b[0m\u001b[0;34m]\u001b[0m\u001b[0;34m,\u001b[0m \u001b[0mmethod\u001b[0m\u001b[0;34m=\u001b[0m\u001b[0mmethod\u001b[0m\u001b[0;34m,\u001b[0m \u001b[0mtolerance\u001b[0m\u001b[0;34m=\u001b[0m\u001b[0mtolerance\u001b[0m\u001b[0;34m)\u001b[0m\u001b[0;34m\u001b[0m\u001b[0;34m\u001b[0m\u001b[0m\n\u001b[1;32m   2901\u001b[0m         \u001b[0;32mif\u001b[0m \u001b[0mindexer\u001b[0m\u001b[0;34m.\u001b[0m\u001b[0mndim\u001b[0m \u001b[0;34m>\u001b[0m \u001b[0;36m1\u001b[0m \u001b[0;32mor\u001b[0m \u001b[0mindexer\u001b[0m\u001b[0;34m.\u001b[0m\u001b[0msize\u001b[0m \u001b[0;34m>\u001b[0m \u001b[0;36m1\u001b[0m\u001b[0;34m:\u001b[0m\u001b[0;34m\u001b[0m\u001b[0;34m\u001b[0m\u001b[0m\n",
      "\u001b[0;32mpandas/_libs/index.pyx\u001b[0m in \u001b[0;36mpandas._libs.index.IndexEngine.get_loc\u001b[0;34m()\u001b[0m\n",
      "\u001b[0;32mpandas/_libs/index.pyx\u001b[0m in \u001b[0;36mpandas._libs.index.IndexEngine.get_loc\u001b[0;34m()\u001b[0m\n",
      "\u001b[0;32mpandas/_libs/hashtable_class_helper.pxi\u001b[0m in \u001b[0;36mpandas._libs.hashtable.PyObjectHashTable.get_item\u001b[0;34m()\u001b[0m\n",
      "\u001b[0;32mpandas/_libs/hashtable_class_helper.pxi\u001b[0m in \u001b[0;36mpandas._libs.hashtable.PyObjectHashTable.get_item\u001b[0;34m()\u001b[0m\n",
      "\u001b[0;31mKeyError\u001b[0m: 'Unnamed: 0'"
     ]
    }
   ],
   "source": [
    "filepath = '../data/en_reviews/london_en.csv'\n",
    "reviews = pd.read_csv(filepath)\n",
    "#del reviews['Unnamed: 0']\n",
    "comments_original = reviews['comments'] #to add back before saving to csv\n",
    "reviews"
   ]
  },
  {
   "cell_type": "code",
   "execution_count": 5,
   "metadata": {},
   "outputs": [
    {
     "name": "stderr",
     "output_type": "stream",
     "text": [
      "[nltk_data] Downloading package wordnet to /Users/hiru/nltk_data...\n",
      "[nltk_data]   Package wordnet is already up-to-date!\n"
     ]
    },
    {
     "data": {
      "text/plain": [
       "True"
      ]
     },
     "execution_count": 5,
     "metadata": {},
     "output_type": "execute_result"
    }
   ],
   "source": [
    "nltk.download('wordnet') #download corpus for lemmatizer to compare results with"
   ]
  },
  {
   "cell_type": "code",
   "execution_count": 4,
   "metadata": {},
   "outputs": [],
   "source": [
    "lem = WordNetLemmatizer() #create lemmatizer"
   ]
  },
  {
   "cell_type": "code",
   "execution_count": 14,
   "metadata": {},
   "outputs": [],
   "source": [
    "table = str.maketrans('', '', string.punctuation) #mapping to strip punctuation in review\n",
    "\n",
    "#strip punct of each review -> lemmatise -> output is list of words so join into sentences\n",
    "lem_comments = reviews.comments.apply(lambda review: ' '.join(map(str, [lem.lemmatize(word.translate(table), pos='n') for word in review.lower().split()])))\n",
    "\n",
    "count = lem_comments.str.count(pattern) # # of dictionary words found in each review\n",
    "length = lem_comments.str.len() # review length\n",
    "\n",
    "reviews['dict_proportion'] = count/length # save proportions"
   ]
  },
  {
   "cell_type": "code",
   "execution_count": 15,
   "metadata": {},
   "outputs": [
    {
     "data": {
      "text/plain": [
       "'Mean dictionary presence: 5.3328%'"
      ]
     },
     "execution_count": 15,
     "metadata": {},
     "output_type": "execute_result"
    }
   ],
   "source": [
    "\"Mean dictionary presence: {:.4%}\".format(np.mean(reviews['dict_proportion']))"
   ]
  },
  {
   "cell_type": "code",
   "execution_count": 16,
   "metadata": {},
   "outputs": [
    {
     "data": {
      "text/html": [
       "<div>\n",
       "<style scoped>\n",
       "    .dataframe tbody tr th:only-of-type {\n",
       "        vertical-align: middle;\n",
       "    }\n",
       "\n",
       "    .dataframe tbody tr th {\n",
       "        vertical-align: top;\n",
       "    }\n",
       "\n",
       "    .dataframe thead th {\n",
       "        text-align: right;\n",
       "    }\n",
       "</style>\n",
       "<table border=\"1\" class=\"dataframe\">\n",
       "  <thead>\n",
       "    <tr style=\"text-align: right;\">\n",
       "      <th></th>\n",
       "      <th>listing_id</th>\n",
       "      <th>id</th>\n",
       "      <th>date</th>\n",
       "      <th>reviewer_id</th>\n",
       "      <th>reviewer_name</th>\n",
       "      <th>comments</th>\n",
       "      <th>langs</th>\n",
       "      <th>dict_proportion</th>\n",
       "    </tr>\n",
       "  </thead>\n",
       "  <tbody>\n",
       "    <tr>\n",
       "      <td>0</td>\n",
       "      <td>11551</td>\n",
       "      <td>30672</td>\n",
       "      <td>2010-03-21</td>\n",
       "      <td>93896</td>\n",
       "      <td>Shar-Lyn</td>\n",
       "      <td>The flat was bright, comfortable and clean and...</td>\n",
       "      <td>en</td>\n",
       "      <td>0.079545</td>\n",
       "    </tr>\n",
       "    <tr>\n",
       "      <td>1</td>\n",
       "      <td>11551</td>\n",
       "      <td>32236</td>\n",
       "      <td>2010-03-29</td>\n",
       "      <td>97890</td>\n",
       "      <td>Zane</td>\n",
       "      <td>We stayed with Adriano and Valerio for a week ...</td>\n",
       "      <td>en</td>\n",
       "      <td>0.045643</td>\n",
       "    </tr>\n",
       "    <tr>\n",
       "      <td>2</td>\n",
       "      <td>90700</td>\n",
       "      <td>337227</td>\n",
       "      <td>2011-06-27</td>\n",
       "      <td>311071</td>\n",
       "      <td>Miqua</td>\n",
       "      <td>it was all in all the perfect week!\\r\\nchilton...</td>\n",
       "      <td>en</td>\n",
       "      <td>0.065315</td>\n",
       "    </tr>\n",
       "    <tr>\n",
       "      <td>3</td>\n",
       "      <td>90700</td>\n",
       "      <td>378738</td>\n",
       "      <td>2011-07-17</td>\n",
       "      <td>224367</td>\n",
       "      <td>Prateek</td>\n",
       "      <td>I'll start with the host, and then move on to ...</td>\n",
       "      <td>en</td>\n",
       "      <td>0.058027</td>\n",
       "    </tr>\n",
       "    <tr>\n",
       "      <td>4</td>\n",
       "      <td>90700</td>\n",
       "      <td>543840</td>\n",
       "      <td>2011-09-18</td>\n",
       "      <td>1115024</td>\n",
       "      <td>Jennifer</td>\n",
       "      <td>Great location. Plenty to do just steps outsid...</td>\n",
       "      <td>en</td>\n",
       "      <td>0.058315</td>\n",
       "    </tr>\n",
       "    <tr>\n",
       "      <td>...</td>\n",
       "      <td>...</td>\n",
       "      <td>...</td>\n",
       "      <td>...</td>\n",
       "      <td>...</td>\n",
       "      <td>...</td>\n",
       "      <td>...</td>\n",
       "      <td>...</td>\n",
       "      <td>...</td>\n",
       "    </tr>\n",
       "    <tr>\n",
       "      <td>871</td>\n",
       "      <td>38605</td>\n",
       "      <td>261935383</td>\n",
       "      <td>2018-05-07</td>\n",
       "      <td>22636994</td>\n",
       "      <td>Shirley</td>\n",
       "      <td>Great location , great host. Elisa &amp; Dom provi...</td>\n",
       "      <td>en</td>\n",
       "      <td>0.033613</td>\n",
       "    </tr>\n",
       "    <tr>\n",
       "      <td>872</td>\n",
       "      <td>38605</td>\n",
       "      <td>262591290</td>\n",
       "      <td>2018-05-09</td>\n",
       "      <td>21123920</td>\n",
       "      <td>Yirong</td>\n",
       "      <td>Great location and very comfortable room</td>\n",
       "      <td>en</td>\n",
       "      <td>0.075000</td>\n",
       "    </tr>\n",
       "    <tr>\n",
       "      <td>873</td>\n",
       "      <td>90700</td>\n",
       "      <td>171592623</td>\n",
       "      <td>2017-07-18</td>\n",
       "      <td>11567369</td>\n",
       "      <td>Helen</td>\n",
       "      <td>Lovely apartment perfect for one or two people...</td>\n",
       "      <td>en</td>\n",
       "      <td>0.046025</td>\n",
       "    </tr>\n",
       "    <tr>\n",
       "      <td>874</td>\n",
       "      <td>17402</td>\n",
       "      <td>276675678</td>\n",
       "      <td>2018-06-14</td>\n",
       "      <td>4599097</td>\n",
       "      <td>Darius</td>\n",
       "      <td>Newly refurbished 3 bed in central London - ro...</td>\n",
       "      <td>en</td>\n",
       "      <td>0.050898</td>\n",
       "    </tr>\n",
       "    <tr>\n",
       "      <td>875</td>\n",
       "      <td>17402</td>\n",
       "      <td>279344150</td>\n",
       "      <td>2018-06-20</td>\n",
       "      <td>194024872</td>\n",
       "      <td>Mohit</td>\n",
       "      <td>Liz is a great host . very specific and inform...</td>\n",
       "      <td>en</td>\n",
       "      <td>0.046610</td>\n",
       "    </tr>\n",
       "  </tbody>\n",
       "</table>\n",
       "<p>876 rows × 8 columns</p>\n",
       "</div>"
      ],
      "text/plain": [
       "     listing_id         id        date  reviewer_id reviewer_name  \\\n",
       "0         11551      30672  2010-03-21        93896      Shar-Lyn   \n",
       "1         11551      32236  2010-03-29        97890          Zane   \n",
       "2         90700     337227  2011-06-27       311071         Miqua   \n",
       "3         90700     378738  2011-07-17       224367       Prateek   \n",
       "4         90700     543840  2011-09-18      1115024      Jennifer   \n",
       "..          ...        ...         ...          ...           ...   \n",
       "871       38605  261935383  2018-05-07     22636994       Shirley   \n",
       "872       38605  262591290  2018-05-09     21123920        Yirong   \n",
       "873       90700  171592623  2017-07-18     11567369         Helen   \n",
       "874       17402  276675678  2018-06-14      4599097        Darius   \n",
       "875       17402  279344150  2018-06-20    194024872         Mohit   \n",
       "\n",
       "                                              comments langs  dict_proportion  \n",
       "0    The flat was bright, comfortable and clean and...    en         0.079545  \n",
       "1    We stayed with Adriano and Valerio for a week ...    en         0.045643  \n",
       "2    it was all in all the perfect week!\\r\\nchilton...    en         0.065315  \n",
       "3    I'll start with the host, and then move on to ...    en         0.058027  \n",
       "4    Great location. Plenty to do just steps outsid...    en         0.058315  \n",
       "..                                                 ...   ...              ...  \n",
       "871  Great location , great host. Elisa & Dom provi...    en         0.033613  \n",
       "872           Great location and very comfortable room    en         0.075000  \n",
       "873  Lovely apartment perfect for one or two people...    en         0.046025  \n",
       "874  Newly refurbished 3 bed in central London - ro...    en         0.050898  \n",
       "875  Liz is a great host . very specific and inform...    en         0.046610  \n",
       "\n",
       "[876 rows x 8 columns]"
      ]
     },
     "execution_count": 16,
     "metadata": {},
     "output_type": "execute_result"
    }
   ],
   "source": [
    "reviews"
   ]
  },
  {
   "cell_type": "code",
   "execution_count": 17,
   "metadata": {},
   "outputs": [],
   "source": [
    "#overwrite csv in en_reviews\n",
    "reviews.to_csv(filepath, index = False)"
   ]
  },
  {
   "cell_type": "code",
   "execution_count": null,
   "metadata": {},
   "outputs": [],
   "source": []
  }
 ],
 "metadata": {
  "kernelspec": {
   "display_name": "Python 3",
   "language": "python",
   "name": "python3"
  },
  "language_info": {
   "codemirror_mode": {
    "name": "ipython",
    "version": 3
   },
   "file_extension": ".py",
   "mimetype": "text/x-python",
   "name": "python",
   "nbconvert_exporter": "python",
   "pygments_lexer": "ipython3",
   "version": "3.7.4"
  }
 },
 "nbformat": 4,
 "nbformat_minor": 2
}
