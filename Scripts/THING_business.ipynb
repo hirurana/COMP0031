{
 "cells": [
  {
   "cell_type": "code",
   "execution_count": 1,
   "metadata": {},
   "outputs": [
    {
     "name": "stderr",
     "output_type": "stream",
     "text": [
      "[nltk_data] Downloading package wordnet to\n",
      "[nltk_data]     /Users/shirinharandi/nltk_data...\n",
      "[nltk_data]   Package wordnet is already up-to-date!\n"
     ]
    },
    {
     "data": {
      "text/plain": [
       "True"
      ]
     },
     "execution_count": 1,
     "metadata": {},
     "output_type": "execute_result"
    }
   ],
   "source": [
    "import math\n",
    "import pandas as pd\n",
    "from langdetect import detect\n",
    "import numpy as np\n",
    "import nltk\n",
    "from nltk.stem import WordNetLemmatizer\n",
    "import string\n",
    "from sklearn.feature_extraction.text import CountVectorizer\n",
    "import math\n",
    "import matplotlib.pyplot as plt\n",
    "\n",
    "import ssl\n",
    "\n",
    "try:\n",
    "    _create_unverified_https_context = ssl._create_unverified_context\n",
    "except AttributeError:\n",
    "    pass\n",
    "else:\n",
    "    ssl._create_default_https_context = _create_unverified_https_context\n",
    "\n",
    "nltk.download('wordnet')"
   ]
  },
  {
   "cell_type": "code",
   "execution_count": 2,
   "metadata": {},
   "outputs": [],
   "source": [
    "lem = WordNetLemmatizer() #create lemmatizer"
   ]
  },
  {
   "cell_type": "code",
   "execution_count": 3,
   "metadata": {},
   "outputs": [
    {
     "data": {
      "text/plain": [
       "0         information\n",
       "1      recommendation\n",
       "2                 tip\n",
       "3              advice\n",
       "4          suggestion\n",
       "            ...      \n",
       "347           talking\n",
       "348          chatting\n",
       "349            moment\n",
       "350              chat\n",
       "351              talk\n",
       "Name: word, Length: 352, dtype: object"
      ]
     },
     "execution_count": 3,
     "metadata": {},
     "output_type": "execute_result"
    }
   ],
   "source": [
    "dictionary = pd.read_csv('../data/processedDict.csv')\n",
    "dictionary['word'].apply(lambda x: lem.lemmatize(x, pos='n'))"
   ]
  },
  {
   "cell_type": "code",
   "execution_count": 4,
   "metadata": {},
   "outputs": [],
   "source": [
    "filepath = '../data/en_reviews/Manchester.csv'\n",
    "reviews = pd.read_csv(filepath)\n",
    "\n",
    "# reviews = reviews['date']\n",
    "reviews\n",
    "\n",
    "table = str.maketrans('', '', string.punctuation) #mapping to strip punctuation in review\n",
    "\n",
    "#strip punct of each review -> lemmatise -> output is list of words so join into sentences\n",
    "reviews['comments'] = reviews.comments.apply(lambda review: ' '.join(map(str, [lem.lemmatize(word.translate(table), pos='n') for word in review.lower().split()])))\n",
    "reviews\n",
    "\n",
    "reviews['date'] = pd.to_datetime(reviews['date'])"
   ]
  },
  {
   "cell_type": "code",
   "execution_count": 5,
   "metadata": {},
   "outputs": [
    {
     "data": {
      "text/html": [
       "<div>\n",
       "<style scoped>\n",
       "    .dataframe tbody tr th:only-of-type {\n",
       "        vertical-align: middle;\n",
       "    }\n",
       "\n",
       "    .dataframe tbody tr th {\n",
       "        vertical-align: top;\n",
       "    }\n",
       "\n",
       "    .dataframe thead th {\n",
       "        text-align: right;\n",
       "    }\n",
       "</style>\n",
       "<table border=\"1\" class=\"dataframe\">\n",
       "  <thead>\n",
       "    <tr style=\"text-align: right;\">\n",
       "      <th></th>\n",
       "      <th>Unnamed: 0</th>\n",
       "      <th>listing_id</th>\n",
       "      <th>id</th>\n",
       "      <th>reviewer_id</th>\n",
       "    </tr>\n",
       "  </thead>\n",
       "  <tbody>\n",
       "    <tr>\n",
       "      <th>count</th>\n",
       "      <td>34573.000000</td>\n",
       "      <td>3.457300e+04</td>\n",
       "      <td>3.457300e+04</td>\n",
       "      <td>3.457300e+04</td>\n",
       "    </tr>\n",
       "    <tr>\n",
       "      <th>mean</th>\n",
       "      <td>35114.694559</td>\n",
       "      <td>1.049706e+07</td>\n",
       "      <td>1.346352e+08</td>\n",
       "      <td>5.977622e+07</td>\n",
       "    </tr>\n",
       "    <tr>\n",
       "      <th>std</th>\n",
       "      <td>22863.367389</td>\n",
       "      <td>6.036341e+06</td>\n",
       "      <td>5.923397e+07</td>\n",
       "      <td>4.400382e+07</td>\n",
       "    </tr>\n",
       "    <tr>\n",
       "      <th>min</th>\n",
       "      <td>14.000000</td>\n",
       "      <td>6.895100e+04</td>\n",
       "      <td>9.515059e+06</td>\n",
       "      <td>1.667000e+03</td>\n",
       "    </tr>\n",
       "    <tr>\n",
       "      <th>25%</th>\n",
       "      <td>15499.000000</td>\n",
       "      <td>5.216954e+06</td>\n",
       "      <td>8.738570e+07</td>\n",
       "      <td>2.258146e+07</td>\n",
       "    </tr>\n",
       "    <tr>\n",
       "      <th>50%</th>\n",
       "      <td>33012.000000</td>\n",
       "      <td>1.122478e+07</td>\n",
       "      <td>1.399675e+08</td>\n",
       "      <td>4.885147e+07</td>\n",
       "    </tr>\n",
       "    <tr>\n",
       "      <th>75%</th>\n",
       "      <td>52335.000000</td>\n",
       "      <td>1.550818e+07</td>\n",
       "      <td>1.884633e+08</td>\n",
       "      <td>9.349942e+07</td>\n",
       "    </tr>\n",
       "    <tr>\n",
       "      <th>max</th>\n",
       "      <td>93328.000000</td>\n",
       "      <td>2.299882e+07</td>\n",
       "      <td>2.230249e+08</td>\n",
       "      <td>1.644092e+08</td>\n",
       "    </tr>\n",
       "  </tbody>\n",
       "</table>\n",
       "</div>"
      ],
      "text/plain": [
       "         Unnamed: 0    listing_id            id   reviewer_id\n",
       "count  34573.000000  3.457300e+04  3.457300e+04  3.457300e+04\n",
       "mean   35114.694559  1.049706e+07  1.346352e+08  5.977622e+07\n",
       "std    22863.367389  6.036341e+06  5.923397e+07  4.400382e+07\n",
       "min       14.000000  6.895100e+04  9.515059e+06  1.667000e+03\n",
       "25%    15499.000000  5.216954e+06  8.738570e+07  2.258146e+07\n",
       "50%    33012.000000  1.122478e+07  1.399675e+08  4.885147e+07\n",
       "75%    52335.000000  1.550818e+07  1.884633e+08  9.349942e+07\n",
       "max    93328.000000  2.299882e+07  2.230249e+08  1.644092e+08"
      ]
     },
     "execution_count": 5,
     "metadata": {},
     "output_type": "execute_result"
    }
   ],
   "source": [
    "#### DELETE THIS LATER ###\n",
    "mask = (reviews['date'] >= '2014-01-01') & (reviews['date'] < '2018-01-01')\n",
    "# mask = (reviews['date'] >= '2014-01-01') & (reviews['date'] < '2017-01-01')\n",
    "reviews = reviews.loc[mask].copy()\n",
    "reviews\n",
    "\n",
    "reviews.describe()"
   ]
  },
  {
   "cell_type": "code",
   "execution_count": 6,
   "metadata": {
    "scrolled": true
   },
   "outputs": [],
   "source": [
    "def get_trends(category, subcats):\n",
    "    years = [2010, 2011, 2012, 2013, 2014, 2015, 2016, 2017, 2018, 2019]\n",
    "    allwords = reviews['comments'].tolist()\n",
    "    allwords = \" \".join(allwords)\n",
    "    unique_words = set(allwords.split(' '))\n",
    "    len(unique_words)\n",
    "\n",
    "    unique_words = list(unique_words)\n",
    "    unique_words = [string for string in unique_words if string != \"\"]\n",
    "    len(unique_words)\n",
    "\n",
    "    unique_words[2]\n",
    "\n",
    "    ls = []\n",
    "    for word in unique_words:\n",
    "        word = ''.join([i for i in word if not i.isdigit()])\n",
    "        ls += [word]\n",
    "    # result = ''.join([i for i in s if not i.isdigit()])\n",
    "    unique_words= ls\n",
    "    unique_words = [string for string in unique_words if string != \"\"]\n",
    "    len(unique_words)\n",
    "\n",
    "    def countWords(word, review):\n",
    "        count = 0\n",
    "        for i in review:\n",
    "            if i == word:\n",
    "                count+=1\n",
    "        return count\n",
    "\n",
    "    def getDenom(review, unique_words):\n",
    "        count = 0\n",
    "        den = 0\n",
    "        ls = []\n",
    "        review = review.split()\n",
    "        for word in review:\n",
    "            kmp = countWords(word, review)\n",
    "            if (kmp > 0 and word not in ls):\n",
    "                ls += [word]\n",
    "                den += math.log(1 + kmp)\n",
    "        return den\n",
    "\n",
    "    reviews['den'] = reviews['comments'].apply(lambda x: getDenom(x, unique_words))\n",
    "\n",
    "    def getNom(category, review, dictionary, cat_levl=\"cat_lev1\"):\n",
    "        nom = 0\n",
    "        review = review.split()\n",
    "        dictionaryWords = dictionary[(dictionary[cat_levl] == category)]\n",
    "        dictionaryWords = dictionaryWords['word']\n",
    "        for word in dictionaryWords:\n",
    "            nom += math.log(1 + review.count(word))\n",
    "        return nom\n",
    "\n",
    "    temp = reviews['comments'].apply(lambda x: getNom(category, x, dictionary))\n",
    "    reviews[category] = temp*100/reviews['den']\n",
    "    k_total = reviews[category].loc[reviews[category] > 0].min()\n",
    "    print(k_total)\n",
    "\n",
    "    k = {}\n",
    "    for subcat in subcats:\n",
    "        temp = reviews['comments'].apply(lambda x: getNom(subcat, x, dictionary, cat_levl=\"cat_lev3\"))\n",
    "        reviews[subcat] = temp * 100 / reviews[\"den\"]\n",
    "        k[subcat] = reviews[subcat].loc[reviews[subcat] > 0].min()\n",
    "    print(k)\n",
    "    \n",
    "    \n",
    "\n",
    "    def adoptionForSetOfReviews(category, setOfReviews, dictionary, startDate, endDate, k):\n",
    "        adoption = 1\n",
    "        mask = (setOfReviews['date'] >= startDate) & (setOfReviews['date'] < endDate)\n",
    "        setOfReviews = setOfReviews.loc[mask]\n",
    "        setOfReviews = setOfReviews[category]\n",
    "        if (len(setOfReviews) == 0):\n",
    "            return 0\n",
    "        else:\n",
    "            b = 1/len(setOfReviews)\n",
    "            for review in setOfReviews:\n",
    "                adoption *= math.pow((review + k),b)\n",
    "            adoption = adoption - k\n",
    "            return adoption\n",
    "\n",
    "    d2 = {'Year' : years, 'value':0.0}\n",
    "    out = pd.DataFrame(data=d2)\n",
    "    \n",
    "    for i in range(len(years)):\n",
    "        out.at[i, \"value_{}_total\".format(category)] = adoptionForSetOfReviews(category, reviews, dictionary, \"{}-01-01\".format(years[i]), \"{}-01-01\".format(years[i] + 1), k_total)\n",
    "        for subcat in subcats:\n",
    "            out.at[i, \"value_{}_{}\".format(category, subcat)] = adoptionForSetOfReviews(subcat, reviews, dictionary, \"{}-01-01\".format(years[i]), \"{}-01-01\".format(years[i] + 1), k[subcat])\n",
    "    return out"
   ]
  },
  {
   "cell_type": "code",
   "execution_count": 7,
   "metadata": {},
   "outputs": [],
   "source": [
    "def create_pivot(out_df, category, subcats):\n",
    "    a = pd.DataFrame(columns=[\"year\", \"subcat\", \"val\"])\n",
    "\n",
    "    for subcat in subcats:\n",
    "        ap = {\"year\": out_df[\"Year\"], \"val\": out_df[\"value_{}_{}\".format(category, subcat)]}\n",
    "        ap = pd.DataFrame(data=ap)\n",
    "        ap[\"subcat\"] = subcat\n",
    "        a = a.append(ap)\n",
    "        \n",
    "    pivot = a.pivot(index='year', columns='subcat', values='val')\n",
    "\n",
    "    return pivot"
   ]
  },
  {
   "cell_type": "code",
   "execution_count": 8,
   "metadata": {
    "scrolled": true
   },
   "outputs": [],
   "source": [
    "# social_subcats = [\"meal\", \"people\", \"personality_host\", \"talking\", \"sharing\"]\n",
    "# social = get_trends(\"social\", social_subcats)\n",
    "\n",
    "# pivot_social = create_pivot(social, \"social\", social_subcats)\n",
    "\n",
    "# ax = pivot_social.loc[:,['meal','people', 'personality_host', 'sharing', 'talking']].plot.bar(stacked=True, figsize=(10,7), color=['#351800','#D85907','#D88A07','#FFA900','#FFD70F'])\n",
    "# plt.title(\"Manchester\")\n",
    "# ax.get_legend().remove()"
   ]
  },
  {
   "cell_type": "code",
   "execution_count": 9,
   "metadata": {
    "scrolled": true
   },
   "outputs": [
    {
     "name": "stdout",
     "output_type": "stream",
     "text": [
      "1.221752695766037\n",
      "{'location': 0.5029531073766607, 'communication': 0.31059423255865254, 'personality_host': 0.3093866502005734, 'property_type': 0.35417438269375745, 'logistic': 0.31059423255865254, 'advice': 0.30528239690480763, 'facilities': 0.3026747346414423, 'interiors': 0.36420561789903516}\n"
     ]
    }
   ],
   "source": [
    "business_subcats = ['location', 'communication', 'personality_host', 'property_type', 'logistic', 'advice', 'facilities', 'interiors']\n",
    "business = get_trends(\"business\", business_subcats)"
   ]
  },
  {
   "cell_type": "code",
   "execution_count": 10,
   "metadata": {},
   "outputs": [
    {
     "data": {
      "text/html": [
       "<div>\n",
       "<style scoped>\n",
       "    .dataframe tbody tr th:only-of-type {\n",
       "        vertical-align: middle;\n",
       "    }\n",
       "\n",
       "    .dataframe tbody tr th {\n",
       "        vertical-align: top;\n",
       "    }\n",
       "\n",
       "    .dataframe thead th {\n",
       "        text-align: right;\n",
       "    }\n",
       "</style>\n",
       "<table border=\"1\" class=\"dataframe\">\n",
       "  <thead>\n",
       "    <tr style=\"text-align: right;\">\n",
       "      <th></th>\n",
       "      <th>Year</th>\n",
       "      <th>value</th>\n",
       "      <th>value_business_total</th>\n",
       "      <th>value_business_location</th>\n",
       "      <th>value_business_communication</th>\n",
       "      <th>value_business_personality_host</th>\n",
       "      <th>value_business_property_type</th>\n",
       "      <th>value_business_logistic</th>\n",
       "      <th>value_business_advice</th>\n",
       "      <th>value_business_facilities</th>\n",
       "      <th>value_business_interiors</th>\n",
       "    </tr>\n",
       "  </thead>\n",
       "  <tbody>\n",
       "    <tr>\n",
       "      <th>0</th>\n",
       "      <td>2010</td>\n",
       "      <td>0.0</td>\n",
       "      <td>0.000000</td>\n",
       "      <td>0.000000</td>\n",
       "      <td>0.000000</td>\n",
       "      <td>0.000000</td>\n",
       "      <td>0.000000</td>\n",
       "      <td>0.000000</td>\n",
       "      <td>0.000000</td>\n",
       "      <td>0.000000</td>\n",
       "      <td>0.000000</td>\n",
       "    </tr>\n",
       "    <tr>\n",
       "      <th>1</th>\n",
       "      <td>2011</td>\n",
       "      <td>0.0</td>\n",
       "      <td>0.000000</td>\n",
       "      <td>0.000000</td>\n",
       "      <td>0.000000</td>\n",
       "      <td>0.000000</td>\n",
       "      <td>0.000000</td>\n",
       "      <td>0.000000</td>\n",
       "      <td>0.000000</td>\n",
       "      <td>0.000000</td>\n",
       "      <td>0.000000</td>\n",
       "    </tr>\n",
       "    <tr>\n",
       "      <th>2</th>\n",
       "      <td>2012</td>\n",
       "      <td>0.0</td>\n",
       "      <td>0.000000</td>\n",
       "      <td>0.000000</td>\n",
       "      <td>0.000000</td>\n",
       "      <td>0.000000</td>\n",
       "      <td>0.000000</td>\n",
       "      <td>0.000000</td>\n",
       "      <td>0.000000</td>\n",
       "      <td>0.000000</td>\n",
       "      <td>0.000000</td>\n",
       "    </tr>\n",
       "    <tr>\n",
       "      <th>3</th>\n",
       "      <td>2013</td>\n",
       "      <td>0.0</td>\n",
       "      <td>0.000000</td>\n",
       "      <td>0.000000</td>\n",
       "      <td>0.000000</td>\n",
       "      <td>0.000000</td>\n",
       "      <td>0.000000</td>\n",
       "      <td>0.000000</td>\n",
       "      <td>0.000000</td>\n",
       "      <td>0.000000</td>\n",
       "      <td>0.000000</td>\n",
       "    </tr>\n",
       "    <tr>\n",
       "      <th>4</th>\n",
       "      <td>2014</td>\n",
       "      <td>0.0</td>\n",
       "      <td>13.827202</td>\n",
       "      <td>3.479113</td>\n",
       "      <td>0.089599</td>\n",
       "      <td>0.425489</td>\n",
       "      <td>1.205227</td>\n",
       "      <td>0.207485</td>\n",
       "      <td>0.044636</td>\n",
       "      <td>0.051847</td>\n",
       "      <td>2.065012</td>\n",
       "    </tr>\n",
       "    <tr>\n",
       "      <th>5</th>\n",
       "      <td>2015</td>\n",
       "      <td>0.0</td>\n",
       "      <td>13.894210</td>\n",
       "      <td>3.192743</td>\n",
       "      <td>0.101128</td>\n",
       "      <td>0.377746</td>\n",
       "      <td>1.255719</td>\n",
       "      <td>0.221188</td>\n",
       "      <td>0.050511</td>\n",
       "      <td>0.045935</td>\n",
       "      <td>2.076601</td>\n",
       "    </tr>\n",
       "    <tr>\n",
       "      <th>6</th>\n",
       "      <td>2016</td>\n",
       "      <td>0.0</td>\n",
       "      <td>13.896034</td>\n",
       "      <td>3.153361</td>\n",
       "      <td>0.125012</td>\n",
       "      <td>0.303874</td>\n",
       "      <td>1.115310</td>\n",
       "      <td>0.204471</td>\n",
       "      <td>0.036037</td>\n",
       "      <td>0.042131</td>\n",
       "      <td>1.945436</td>\n",
       "    </tr>\n",
       "    <tr>\n",
       "      <th>7</th>\n",
       "      <td>2017</td>\n",
       "      <td>0.0</td>\n",
       "      <td>13.433408</td>\n",
       "      <td>3.360050</td>\n",
       "      <td>0.147086</td>\n",
       "      <td>0.235901</td>\n",
       "      <td>0.845831</td>\n",
       "      <td>0.150143</td>\n",
       "      <td>0.022897</td>\n",
       "      <td>0.039029</td>\n",
       "      <td>1.718190</td>\n",
       "    </tr>\n",
       "    <tr>\n",
       "      <th>8</th>\n",
       "      <td>2018</td>\n",
       "      <td>0.0</td>\n",
       "      <td>0.000000</td>\n",
       "      <td>0.000000</td>\n",
       "      <td>0.000000</td>\n",
       "      <td>0.000000</td>\n",
       "      <td>0.000000</td>\n",
       "      <td>0.000000</td>\n",
       "      <td>0.000000</td>\n",
       "      <td>0.000000</td>\n",
       "      <td>0.000000</td>\n",
       "    </tr>\n",
       "    <tr>\n",
       "      <th>9</th>\n",
       "      <td>2019</td>\n",
       "      <td>0.0</td>\n",
       "      <td>0.000000</td>\n",
       "      <td>0.000000</td>\n",
       "      <td>0.000000</td>\n",
       "      <td>0.000000</td>\n",
       "      <td>0.000000</td>\n",
       "      <td>0.000000</td>\n",
       "      <td>0.000000</td>\n",
       "      <td>0.000000</td>\n",
       "      <td>0.000000</td>\n",
       "    </tr>\n",
       "  </tbody>\n",
       "</table>\n",
       "</div>"
      ],
      "text/plain": [
       "   Year  value  value_business_total  value_business_location  \\\n",
       "0  2010    0.0              0.000000                 0.000000   \n",
       "1  2011    0.0              0.000000                 0.000000   \n",
       "2  2012    0.0              0.000000                 0.000000   \n",
       "3  2013    0.0              0.000000                 0.000000   \n",
       "4  2014    0.0             13.827202                 3.479113   \n",
       "5  2015    0.0             13.894210                 3.192743   \n",
       "6  2016    0.0             13.896034                 3.153361   \n",
       "7  2017    0.0             13.433408                 3.360050   \n",
       "8  2018    0.0              0.000000                 0.000000   \n",
       "9  2019    0.0              0.000000                 0.000000   \n",
       "\n",
       "   value_business_communication  value_business_personality_host  \\\n",
       "0                      0.000000                         0.000000   \n",
       "1                      0.000000                         0.000000   \n",
       "2                      0.000000                         0.000000   \n",
       "3                      0.000000                         0.000000   \n",
       "4                      0.089599                         0.425489   \n",
       "5                      0.101128                         0.377746   \n",
       "6                      0.125012                         0.303874   \n",
       "7                      0.147086                         0.235901   \n",
       "8                      0.000000                         0.000000   \n",
       "9                      0.000000                         0.000000   \n",
       "\n",
       "   value_business_property_type  value_business_logistic  \\\n",
       "0                      0.000000                 0.000000   \n",
       "1                      0.000000                 0.000000   \n",
       "2                      0.000000                 0.000000   \n",
       "3                      0.000000                 0.000000   \n",
       "4                      1.205227                 0.207485   \n",
       "5                      1.255719                 0.221188   \n",
       "6                      1.115310                 0.204471   \n",
       "7                      0.845831                 0.150143   \n",
       "8                      0.000000                 0.000000   \n",
       "9                      0.000000                 0.000000   \n",
       "\n",
       "   value_business_advice  value_business_facilities  value_business_interiors  \n",
       "0               0.000000                   0.000000                  0.000000  \n",
       "1               0.000000                   0.000000                  0.000000  \n",
       "2               0.000000                   0.000000                  0.000000  \n",
       "3               0.000000                   0.000000                  0.000000  \n",
       "4               0.044636                   0.051847                  2.065012  \n",
       "5               0.050511                   0.045935                  2.076601  \n",
       "6               0.036037                   0.042131                  1.945436  \n",
       "7               0.022897                   0.039029                  1.718190  \n",
       "8               0.000000                   0.000000                  0.000000  \n",
       "9               0.000000                   0.000000                  0.000000  "
      ]
     },
     "execution_count": 10,
     "metadata": {},
     "output_type": "execute_result"
    }
   ],
   "source": [
    "business"
   ]
  },
  {
   "cell_type": "code",
   "execution_count": 11,
   "metadata": {},
   "outputs": [
    {
     "data": {
      "text/plain": [
       "<BarContainer object of 10 artists>"
      ]
     },
     "execution_count": 11,
     "metadata": {},
     "output_type": "execute_result"
    },
    {
     "data": {
      "image/png": "[encoded data removed]",
      "text/plain": [
       "<Figure size 432x288 with 1 Axes>"
      ]
     },
     "metadata": {
      "needs_background": "light"
     },
     "output_type": "display_data"
    }
   ],
   "source": [
    "plt.bar(business[\"Year\"], business[\"value_business_total\"])"
   ]
  },
  {
   "cell_type": "code",
   "execution_count": 12,
   "metadata": {},
   "outputs": [
    {
     "name": "stderr",
     "output_type": "stream",
     "text": [
      "/usr/local/lib/python3.7/site-packages/pandas/core/frame.py:7138: FutureWarning: Sorting because non-concatenation axis is not aligned. A future version\n",
      "of pandas will change to not sort by default.\n",
      "\n",
      "To accept the future behavior, pass 'sort=False'.\n",
      "\n",
      "To retain the current behavior and silence the warning, pass 'sort=True'.\n",
      "\n",
      "  sort=sort,\n"
     ]
    },
    {
     "data": {
      "image/png": "[encoded data removed]",
      "text/plain": [
       "<Figure size 720x504 with 1 Axes>"
      ]
     },
     "metadata": {
      "needs_background": "light"
     },
     "output_type": "display_data"
    }
   ],
   "source": [
    "pivot_business = create_pivot(business, \"business\", business_subcats)\n",
    "ax = pivot_business.loc[:,['location', 'communication', 'personality_host', 'property_type', 'logistic', 'advice', 'facilities', 'interiors']].plot.bar(stacked=True, figsize=(10,7), color=['#143258','#235BA0','#70A9C1','#B1CEDB','#16B9FF','#BCEBFF','#119DAF', '#DFC3D4'])\n",
    "plt.title(\"Manchester\")\n",
    "ax.get_legend().remove()"
   ]
  },
  {
   "cell_type": "code",
   "execution_count": 13,
   "metadata": {},
   "outputs": [
    {
     "ename": "NameError",
     "evalue": "name 'soci' is not defined",
     "output_type": "error",
     "traceback": [
      "\u001b[0;31m---------------------------------------------------------------------------\u001b[0m",
      "\u001b[0;31mNameError\u001b[0m                                 Traceback (most recent call last)",
      "\u001b[0;32m<ipython-input-13-c7f0a742655a>\u001b[0m in \u001b[0;36m<module>\u001b[0;34m\u001b[0m\n\u001b[0;32m----> 1\u001b[0;31m \u001b[0msoci\u001b[0m\u001b[0;34m[\u001b[0m\u001b[0;34m[\u001b[0m\u001b[0;34m\"Year\"\u001b[0m\u001b[0;34m,\u001b[0m \u001b[0;34m\"value_social_meal\"\u001b[0m\u001b[0;34m]\u001b[0m\u001b[0;34m]\u001b[0m\u001b[0;34m\u001b[0m\u001b[0;34m\u001b[0m\u001b[0m\n\u001b[0m",
      "\u001b[0;31mNameError\u001b[0m: name 'soci' is not defined"
     ]
    }
   ],
   "source": [
    "soci[[\"Year\", \"value_social_meal\"]]"
   ]
  },
  {
   "cell_type": "code",
   "execution_count": null,
   "metadata": {},
   "outputs": [],
   "source": [
    "p = {}\n",
    "# \"value_{}_{}\".format(category, subcat)\n",
    "for i in range(len(subcats)):\n",
    "    p[subcats[i]] = plt.bar(soci[\"Year\"], soci[\"value_{}_{}\".format(\"social\", subcats[i])])\n",
    "plt.show()"
   ]
  },
  {
   "cell_type": "code",
   "execution_count": null,
   "metadata": {},
   "outputs": [],
   "source": [
    "subcats = [\"advice\", \"personality_host2\", \"logistic\", \"location\", \n",
    "           \"property_type\", \"facilities\", \"interiors\", \"communication\"]\n",
    "busi = get_trends_sad(\"business\", subcats)"
   ]
  },
  {
   "cell_type": "code",
   "execution_count": null,
   "metadata": {},
   "outputs": [],
   "source": []
  }
 ],
 "metadata": {
  "kernelspec": {
   "display_name": "Python 3",
   "language": "python",
   "name": "python3"
  },
  "language_info": {
   "codemirror_mode": {
    "name": "ipython",
    "version": 3
   },
   "file_extension": ".py",
   "mimetype": "text/x-python",
   "name": "python",
   "nbconvert_exporter": "python",
   "pygments_lexer": "ipython3",
   "version": "3.7.3"
  }
 },
 "nbformat": 4,
 "nbformat_minor": 2
}
