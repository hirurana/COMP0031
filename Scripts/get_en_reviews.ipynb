{
 "cells": [
  {
   "cell_type": "code",
   "execution_count": 1,
   "metadata": {},
   "outputs": [],
   "source": [
    "# RUN THIS CODE ONCE AND UPLOAD THE RESULTING CSV TO GITHUB FOR FUTURE REUSE"
   ]
  },
  {
   "cell_type": "code",
   "execution_count": 2,
   "metadata": {},
   "outputs": [],
   "source": [
    "import pandas as pd\n",
    "from langdetect import detect"
   ]
  },
  {
   "cell_type": "code",
   "execution_count": 3,
   "metadata": {},
   "outputs": [],
   "source": [
    "# path to your file\n",
    "df = pd.read_csv('../data/london/london_reviews.csv')"
   ]
  },
  {
   "cell_type": "code",
   "execution_count": 4,
   "metadata": {},
   "outputs": [
    {
     "data": {
      "text/html": [
       "<div>\n",
       "<style scoped>\n",
       "    .dataframe tbody tr th:only-of-type {\n",
       "        vertical-align: middle;\n",
       "    }\n",
       "\n",
       "    .dataframe tbody tr th {\n",
       "        vertical-align: top;\n",
       "    }\n",
       "\n",
       "    .dataframe thead th {\n",
       "        text-align: right;\n",
       "    }\n",
       "</style>\n",
       "<table border=\"1\" class=\"dataframe\">\n",
       "  <thead>\n",
       "    <tr style=\"text-align: right;\">\n",
       "      <th></th>\n",
       "      <th>listing_id</th>\n",
       "      <th>id</th>\n",
       "      <th>date</th>\n",
       "      <th>reviewer_id</th>\n",
       "      <th>reviewer_name</th>\n",
       "      <th>comments</th>\n",
       "    </tr>\n",
       "  </thead>\n",
       "  <tbody>\n",
       "    <tr>\n",
       "      <td>0</td>\n",
       "      <td>11551</td>\n",
       "      <td>30672</td>\n",
       "      <td>2010-03-21</td>\n",
       "      <td>93896</td>\n",
       "      <td>Shar-Lyn</td>\n",
       "      <td>The flat was bright, comfortable and clean and...</td>\n",
       "    </tr>\n",
       "    <tr>\n",
       "      <td>1</td>\n",
       "      <td>11551</td>\n",
       "      <td>32236</td>\n",
       "      <td>2010-03-29</td>\n",
       "      <td>97890</td>\n",
       "      <td>Zane</td>\n",
       "      <td>We stayed with Adriano and Valerio for a week ...</td>\n",
       "    </tr>\n",
       "    <tr>\n",
       "      <td>2</td>\n",
       "      <td>11551</td>\n",
       "      <td>41044</td>\n",
       "      <td>2010-05-09</td>\n",
       "      <td>104133</td>\n",
       "      <td>Chase</td>\n",
       "      <td>Adriano was a fantastic host. We felt very at ...</td>\n",
       "    </tr>\n",
       "    <tr>\n",
       "      <td>3</td>\n",
       "      <td>11551</td>\n",
       "      <td>48926</td>\n",
       "      <td>2010-06-01</td>\n",
       "      <td>122714</td>\n",
       "      <td>John &amp; Sylvia</td>\n",
       "      <td>We had a most wonderful stay with Adriano and ...</td>\n",
       "    </tr>\n",
       "    <tr>\n",
       "      <td>4</td>\n",
       "      <td>11551</td>\n",
       "      <td>58352</td>\n",
       "      <td>2010-06-28</td>\n",
       "      <td>111543</td>\n",
       "      <td>Monique</td>\n",
       "      <td>I'm not sure which of us misunderstood the s...</td>\n",
       "    </tr>\n",
       "    <tr>\n",
       "      <td>...</td>\n",
       "      <td>...</td>\n",
       "      <td>...</td>\n",
       "      <td>...</td>\n",
       "      <td>...</td>\n",
       "      <td>...</td>\n",
       "      <td>...</td>\n",
       "    </tr>\n",
       "    <tr>\n",
       "      <td>1571099</td>\n",
       "      <td>42242904</td>\n",
       "      <td>606325860</td>\n",
       "      <td>2020-02-16</td>\n",
       "      <td>123766238</td>\n",
       "      <td>Marsy</td>\n",
       "      <td>The place to be!</td>\n",
       "    </tr>\n",
       "    <tr>\n",
       "      <td>1571100</td>\n",
       "      <td>42247233</td>\n",
       "      <td>605318820</td>\n",
       "      <td>2020-02-14</td>\n",
       "      <td>289868046</td>\n",
       "      <td>Tureay</td>\n",
       "      <td>This is a great flat which is right in the hea...</td>\n",
       "    </tr>\n",
       "    <tr>\n",
       "      <td>1571101</td>\n",
       "      <td>42249963</td>\n",
       "      <td>605007942</td>\n",
       "      <td>2020-02-13</td>\n",
       "      <td>709624</td>\n",
       "      <td>David</td>\n",
       "      <td>A great spot in Shoreditch.  Comfy bed and a g...</td>\n",
       "    </tr>\n",
       "    <tr>\n",
       "      <td>1571102</td>\n",
       "      <td>42257962</td>\n",
       "      <td>606333621</td>\n",
       "      <td>2020-02-16</td>\n",
       "      <td>9843871</td>\n",
       "      <td>Sara</td>\n",
       "      <td>No respondia ni a llamadas ni mensajes, por su...</td>\n",
       "    </tr>\n",
       "    <tr>\n",
       "      <td>1571103</td>\n",
       "      <td>42289475</td>\n",
       "      <td>605784149</td>\n",
       "      <td>2020-02-15</td>\n",
       "      <td>18091846</td>\n",
       "      <td>Arunas</td>\n",
       "      <td>Amazing penthouse with wrap around balcony... ...</td>\n",
       "    </tr>\n",
       "  </tbody>\n",
       "</table>\n",
       "<p>1547362 rows × 6 columns</p>\n",
       "</div>"
      ],
      "text/plain": [
       "         listing_id         id        date  reviewer_id  reviewer_name  \\\n",
       "0             11551      30672  2010-03-21        93896       Shar-Lyn   \n",
       "1             11551      32236  2010-03-29        97890           Zane   \n",
       "2             11551      41044  2010-05-09       104133          Chase   \n",
       "3             11551      48926  2010-06-01       122714  John & Sylvia   \n",
       "4             11551      58352  2010-06-28       111543        Monique   \n",
       "...             ...        ...         ...          ...            ...   \n",
       "1571099    42242904  606325860  2020-02-16    123766238          Marsy   \n",
       "1571100    42247233  605318820  2020-02-14    289868046         Tureay   \n",
       "1571101    42249963  605007942  2020-02-13       709624          David   \n",
       "1571102    42257962  606333621  2020-02-16      9843871           Sara   \n",
       "1571103    42289475  605784149  2020-02-15     18091846         Arunas   \n",
       "\n",
       "                                                  comments  \n",
       "0        The flat was bright, comfortable and clean and...  \n",
       "1        We stayed with Adriano and Valerio for a week ...  \n",
       "2        Adriano was a fantastic host. We felt very at ...  \n",
       "3        We had a most wonderful stay with Adriano and ...  \n",
       "4          I'm not sure which of us misunderstood the s...  \n",
       "...                                                    ...  \n",
       "1571099                                   The place to be!  \n",
       "1571100  This is a great flat which is right in the hea...  \n",
       "1571101  A great spot in Shoreditch.  Comfy bed and a g...  \n",
       "1571102  No respondia ni a llamadas ni mensajes, por su...  \n",
       "1571103  Amazing penthouse with wrap around balcony... ...  \n",
       "\n",
       "[1547362 rows x 6 columns]"
      ]
     },
     "execution_count": 4,
     "metadata": {},
     "output_type": "execute_result"
    }
   ],
   "source": [
    "df2 = df[df.comments.str[:34] != \"The host canceled this reservation\"]\n",
    "df2 = df2.copy()\n",
    "df2"
   ]
  },
  {
   "cell_type": "code",
   "execution_count": 5,
   "metadata": {},
   "outputs": [],
   "source": [
    "df3 = df2['comments']"
   ]
  },
  {
   "cell_type": "code",
   "execution_count": null,
   "metadata": {},
   "outputs": [],
   "source": []
  },
  {
   "cell_type": "code",
   "execution_count": null,
   "metadata": {},
   "outputs": [],
   "source": [
    "langs = []\n",
    "for i in df3:\n",
    "    try:\n",
    "        langs.append(detect(i))\n",
    "    except:\n",
    "        langs.append('Nan')\n",
    "        continue"
   ]
  },
  {
   "cell_type": "code",
   "execution_count": null,
   "metadata": {},
   "outputs": [],
   "source": [
    "langs"
   ]
  },
  {
   "cell_type": "code",
   "execution_count": null,
   "metadata": {},
   "outputs": [],
   "source": [
    "# change the name of the resulting file\n",
    "df_en.to_csv(r'../data/en_reviews/london_en.csv', index = False)"
   ]
  },
  {
   "cell_type": "code",
   "execution_count": null,
   "metadata": {},
   "outputs": [],
   "source": []
  }
 ],
 "metadata": {
  "kernelspec": {
   "display_name": "Python 3",
   "language": "python",
   "name": "python3"
  },
  "language_info": {
   "codemirror_mode": {
    "name": "ipython",
    "version": 3
   },
   "file_extension": ".py",
   "mimetype": "text/x-python",
   "name": "python",
   "nbconvert_exporter": "python",
   "pygments_lexer": "ipython3",
   "version": "3.7.4"
  }
 },
 "nbformat": 4,
 "nbformat_minor": 2
}
