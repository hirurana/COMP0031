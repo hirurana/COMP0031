{
 "cells": [
  {
   "cell_type": "code",
   "execution_count": 1,
   "metadata": {},
   "outputs": [],
   "source": [
    "# RUN THIS CODE ONCE AND UPLOAD THE RESULTING CSV TO GITHUB FOR FUTURE REUSE"
   ]
  },
  {
   "cell_type": "code",
   "execution_count": 2,
   "metadata": {},
   "outputs": [],
   "source": [
    "import pandas as pd\n",
    "from langdetect import detect"
   ]
  },
  {
   "cell_type": "code",
   "execution_count": 3,
   "metadata": {},
   "outputs": [],
   "source": [
    "# path to your file\n",
    "df = pd.read_csv('../Data/new_york/newyork_review.csv')"
   ]
  },
  {
   "cell_type": "code",
   "execution_count": 4,
   "metadata": {},
   "outputs": [
    {
     "data": {
      "text/html": [
       "<div>\n",
       "<style scoped>\n",
       "    .dataframe tbody tr th:only-of-type {\n",
       "        vertical-align: middle;\n",
       "    }\n",
       "\n",
       "    .dataframe tbody tr th {\n",
       "        vertical-align: top;\n",
       "    }\n",
       "\n",
       "    .dataframe thead th {\n",
       "        text-align: right;\n",
       "    }\n",
       "</style>\n",
       "<table border=\"1\" class=\"dataframe\">\n",
       "  <thead>\n",
       "    <tr style=\"text-align: right;\">\n",
       "      <th></th>\n",
       "      <th>listing_id</th>\n",
       "      <th>id</th>\n",
       "      <th>date</th>\n",
       "      <th>reviewer_id</th>\n",
       "      <th>reviewer_name</th>\n",
       "      <th>comments</th>\n",
       "    </tr>\n",
       "  </thead>\n",
       "  <tbody>\n",
       "    <tr>\n",
       "      <th>0</th>\n",
       "      <td>2595</td>\n",
       "      <td>17857</td>\n",
       "      <td>2009-11-21</td>\n",
       "      <td>50679</td>\n",
       "      <td>Jean</td>\n",
       "      <td>Notre séjour de trois nuits.\\r\\nNous avons app...</td>\n",
       "    </tr>\n",
       "    <tr>\n",
       "      <th>1</th>\n",
       "      <td>2595</td>\n",
       "      <td>19176</td>\n",
       "      <td>2009-12-05</td>\n",
       "      <td>53267</td>\n",
       "      <td>Cate</td>\n",
       "      <td>Great experience.</td>\n",
       "    </tr>\n",
       "    <tr>\n",
       "      <th>2</th>\n",
       "      <td>2595</td>\n",
       "      <td>19760</td>\n",
       "      <td>2009-12-10</td>\n",
       "      <td>38960</td>\n",
       "      <td>Anita</td>\n",
       "      <td>I've stayed with my friend at the Midtown Cast...</td>\n",
       "    </tr>\n",
       "    <tr>\n",
       "      <th>3</th>\n",
       "      <td>2595</td>\n",
       "      <td>34320</td>\n",
       "      <td>2010-04-09</td>\n",
       "      <td>71130</td>\n",
       "      <td>Kai-Uwe</td>\n",
       "      <td>We've been staying here for about 9 nights, en...</td>\n",
       "    </tr>\n",
       "    <tr>\n",
       "      <th>4</th>\n",
       "      <td>2595</td>\n",
       "      <td>46312</td>\n",
       "      <td>2010-05-25</td>\n",
       "      <td>117113</td>\n",
       "      <td>Alicia</td>\n",
       "      <td>We had a wonderful stay at Jennifer's charming...</td>\n",
       "    </tr>\n",
       "    <tr>\n",
       "      <th>...</th>\n",
       "      <td>...</td>\n",
       "      <td>...</td>\n",
       "      <td>...</td>\n",
       "      <td>...</td>\n",
       "      <td>...</td>\n",
       "      <td>...</td>\n",
       "    </tr>\n",
       "    <tr>\n",
       "      <th>1280166</th>\n",
       "      <td>42112160</td>\n",
       "      <td>604215454</td>\n",
       "      <td>2020-02-10</td>\n",
       "      <td>34446721</td>\n",
       "      <td>James</td>\n",
       "      <td>Bens apartment was clean, spacious and in an a...</td>\n",
       "    </tr>\n",
       "    <tr>\n",
       "      <th>1280167</th>\n",
       "      <td>42112160</td>\n",
       "      <td>604521130</td>\n",
       "      <td>2020-02-11</td>\n",
       "      <td>167400163</td>\n",
       "      <td>Andrew</td>\n",
       "      <td>Great experience! The location was perfect, ri...</td>\n",
       "    </tr>\n",
       "    <tr>\n",
       "      <th>1280168</th>\n",
       "      <td>42125595</td>\n",
       "      <td>603635599</td>\n",
       "      <td>2020-02-09</td>\n",
       "      <td>164390161</td>\n",
       "      <td>Raisha</td>\n",
       "      <td>My friend an I really enjoyed our stay in this...</td>\n",
       "    </tr>\n",
       "    <tr>\n",
       "      <th>1280170</th>\n",
       "      <td>42154357</td>\n",
       "      <td>603764934</td>\n",
       "      <td>2020-02-09</td>\n",
       "      <td>219727469</td>\n",
       "      <td>Marcelo</td>\n",
       "      <td>This was by far way better then what I expecte...</td>\n",
       "    </tr>\n",
       "    <tr>\n",
       "      <th>1280171</th>\n",
       "      <td>42154870</td>\n",
       "      <td>603671912</td>\n",
       "      <td>2020-02-09</td>\n",
       "      <td>302435803</td>\n",
       "      <td>Isabelle</td>\n",
       "      <td>I loved the place! It’s next to Prospect Park....</td>\n",
       "    </tr>\n",
       "  </tbody>\n",
       "</table>\n",
       "<p>1264301 rows × 6 columns</p>\n",
       "</div>"
      ],
      "text/plain": [
       "         listing_id         id        date  reviewer_id reviewer_name  \\\n",
       "0              2595      17857  2009-11-21        50679          Jean   \n",
       "1              2595      19176  2009-12-05        53267          Cate   \n",
       "2              2595      19760  2009-12-10        38960         Anita   \n",
       "3              2595      34320  2010-04-09        71130       Kai-Uwe   \n",
       "4              2595      46312  2010-05-25       117113        Alicia   \n",
       "...             ...        ...         ...          ...           ...   \n",
       "1280166    42112160  604215454  2020-02-10     34446721         James   \n",
       "1280167    42112160  604521130  2020-02-11    167400163        Andrew   \n",
       "1280168    42125595  603635599  2020-02-09    164390161        Raisha   \n",
       "1280170    42154357  603764934  2020-02-09    219727469       Marcelo   \n",
       "1280171    42154870  603671912  2020-02-09    302435803      Isabelle   \n",
       "\n",
       "                                                  comments  \n",
       "0        Notre séjour de trois nuits.\\r\\nNous avons app...  \n",
       "1                                        Great experience.  \n",
       "2        I've stayed with my friend at the Midtown Cast...  \n",
       "3        We've been staying here for about 9 nights, en...  \n",
       "4        We had a wonderful stay at Jennifer's charming...  \n",
       "...                                                    ...  \n",
       "1280166  Bens apartment was clean, spacious and in an a...  \n",
       "1280167  Great experience! The location was perfect, ri...  \n",
       "1280168  My friend an I really enjoyed our stay in this...  \n",
       "1280170  This was by far way better then what I expecte...  \n",
       "1280171  I loved the place! It’s next to Prospect Park....  \n",
       "\n",
       "[1264301 rows x 6 columns]"
      ]
     },
     "execution_count": 4,
     "metadata": {},
     "output_type": "execute_result"
    }
   ],
   "source": [
    "df2 = df[df.comments.str[:34] != \"The host canceled this reservation\"]\n",
    "df2 = df2.copy()\n",
    "df2"
   ]
  },
  {
   "cell_type": "code",
   "execution_count": 5,
   "metadata": {},
   "outputs": [],
   "source": [
    "df3 = df2['comments']"
   ]
  },
  {
   "cell_type": "code",
   "execution_count": null,
   "metadata": {},
   "outputs": [],
   "source": []
  },
  {
   "cell_type": "code",
   "execution_count": null,
   "metadata": {},
   "outputs": [],
   "source": [
    "langs = []\n",
    "for i in df3:\n",
    "    try:\n",
    "        langs.append(detect(i))\n",
    "    except:\n",
    "        langs.append('Nan')\n",
    "        continue"
   ]
  },
  {
   "cell_type": "code",
   "execution_count": null,
   "metadata": {},
   "outputs": [],
   "source": [
    "langs"
   ]
  },
  {
   "cell_type": "code",
   "execution_count": null,
   "metadata": {},
   "outputs": [],
   "source": [
    "# change the name of the resulting file\n",
    "df_en.to_csv(r'../data/en_reviews/newyork_en.csv', index = False)"
   ]
  },
  {
   "cell_type": "code",
   "execution_count": null,
   "metadata": {},
   "outputs": [],
   "source": []
  },
  {
   "cell_type": "code",
   "execution_count": null,
   "metadata": {},
   "outputs": [],
   "source": []
  }
 ],
 "metadata": {
  "kernelspec": {
   "display_name": "Python 3",
   "language": "python",
   "name": "python3"
  },
  "language_info": {
   "codemirror_mode": {
    "name": "ipython",
    "version": 3
   },
   "file_extension": ".py",
   "mimetype": "text/x-python",
   "name": "python",
   "nbconvert_exporter": "python",
   "pygments_lexer": "ipython3",
   "version": "3.6.5"
  }
 },
 "nbformat": 4,
 "nbformat_minor": 2
}
