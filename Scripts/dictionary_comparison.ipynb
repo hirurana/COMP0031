{
 "cells": [
  {
   "cell_type": "code",
   "execution_count": 25,
   "metadata": {},
   "outputs": [],
   "source": [
    "import pandas as pd\n",
    "from langdetect import detect\n",
    "import numpy as np"
   ]
  },
  {
   "cell_type": "code",
   "execution_count": 2,
   "metadata": {},
   "outputs": [],
   "source": [
    "df = pd.read_csv('processedDict.csv')"
   ]
  },
  {
   "cell_type": "code",
   "execution_count": 23,
   "metadata": {},
   "outputs": [
    {
     "data": {
      "text/plain": [
       "0          information\n",
       "1      recommendations\n",
       "2                 tips\n",
       "3               advice\n",
       "4          suggestions\n",
       "            ...       \n",
       "347            talking\n",
       "348           chatting\n",
       "349            moments\n",
       "350              chats\n",
       "351              talks\n",
       "Name: word, Length: 352, dtype: object"
      ]
     },
     "execution_count": 23,
     "metadata": {},
     "output_type": "execute_result"
    }
   ],
   "source": [
    "df['word']"
   ]
  },
  {
   "cell_type": "code",
   "execution_count": 39,
   "metadata": {},
   "outputs": [],
   "source": [
    "reviews = pd.read_csv('./brazil/brazil_reviews.csv')\n",
    "test = reviews"
   ]
  },
  {
   "cell_type": "code",
   "execution_count": 40,
   "metadata": {},
   "outputs": [
    {
     "data": {
      "text/html": [
       "<div>\n",
       "<style scoped>\n",
       "    .dataframe tbody tr th:only-of-type {\n",
       "        vertical-align: middle;\n",
       "    }\n",
       "\n",
       "    .dataframe tbody tr th {\n",
       "        vertical-align: top;\n",
       "    }\n",
       "\n",
       "    .dataframe thead th {\n",
       "        text-align: right;\n",
       "    }\n",
       "</style>\n",
       "<table border=\"1\" class=\"dataframe\">\n",
       "  <thead>\n",
       "    <tr style=\"text-align: right;\">\n",
       "      <th></th>\n",
       "      <th>listing_id</th>\n",
       "      <th>id</th>\n",
       "      <th>date</th>\n",
       "      <th>reviewer_id</th>\n",
       "      <th>reviewer_name</th>\n",
       "      <th>comments</th>\n",
       "    </tr>\n",
       "  </thead>\n",
       "  <tbody>\n",
       "    <tr>\n",
       "      <td>0</td>\n",
       "      <td>17878</td>\n",
       "      <td>64852</td>\n",
       "      <td>2010-07-15</td>\n",
       "      <td>135370</td>\n",
       "      <td>Tia</td>\n",
       "      <td>This apartment is in a perfect location -- two...</td>\n",
       "    </tr>\n",
       "    <tr>\n",
       "      <td>1</td>\n",
       "      <td>17878</td>\n",
       "      <td>76744</td>\n",
       "      <td>2010-08-11</td>\n",
       "      <td>10206</td>\n",
       "      <td>Mimi</td>\n",
       "      <td>we had a really great experience staying in Ma...</td>\n",
       "    </tr>\n",
       "    <tr>\n",
       "      <td>2</td>\n",
       "      <td>17878</td>\n",
       "      <td>91074</td>\n",
       "      <td>2010-09-06</td>\n",
       "      <td>80253</td>\n",
       "      <td>Jan</td>\n",
       "      <td>Staying in Max appartment is like living in a ...</td>\n",
       "    </tr>\n",
       "    <tr>\n",
       "      <td>3</td>\n",
       "      <td>17878</td>\n",
       "      <td>137528</td>\n",
       "      <td>2010-11-12</td>\n",
       "      <td>230449</td>\n",
       "      <td>Orene</td>\n",
       "      <td>In general very good and reasonable price.\\r\\n...</td>\n",
       "    </tr>\n",
       "    <tr>\n",
       "      <td>4</td>\n",
       "      <td>17878</td>\n",
       "      <td>147594</td>\n",
       "      <td>2010-12-01</td>\n",
       "      <td>219338</td>\n",
       "      <td>David</td>\n",
       "      <td>The apt was nice and in a great location only ...</td>\n",
       "    </tr>\n",
       "    <tr>\n",
       "      <td>...</td>\n",
       "      <td>...</td>\n",
       "      <td>...</td>\n",
       "      <td>...</td>\n",
       "      <td>...</td>\n",
       "      <td>...</td>\n",
       "      <td>...</td>\n",
       "    </tr>\n",
       "    <tr>\n",
       "      <td>316051</td>\n",
       "      <td>40157438</td>\n",
       "      <td>565279567</td>\n",
       "      <td>2019-11-17</td>\n",
       "      <td>310155650</td>\n",
       "      <td>Andrea</td>\n",
       "      <td>The host canceled this reservation 44 days bef...</td>\n",
       "    </tr>\n",
       "    <tr>\n",
       "      <td>316052</td>\n",
       "      <td>40237024</td>\n",
       "      <td>567395895</td>\n",
       "      <td>2019-11-22</td>\n",
       "      <td>138627562</td>\n",
       "      <td>Thiago</td>\n",
       "      <td>The host canceled this reservation 36 days bef...</td>\n",
       "    </tr>\n",
       "    <tr>\n",
       "      <td>316053</td>\n",
       "      <td>40251786</td>\n",
       "      <td>567015379</td>\n",
       "      <td>2019-11-21</td>\n",
       "      <td>4792833</td>\n",
       "      <td>Padraig</td>\n",
       "      <td>The host canceled this reservation 40 days bef...</td>\n",
       "    </tr>\n",
       "    <tr>\n",
       "      <td>316054</td>\n",
       "      <td>40266786</td>\n",
       "      <td>567192792</td>\n",
       "      <td>2019-11-21</td>\n",
       "      <td>232735567</td>\n",
       "      <td>Bárbara</td>\n",
       "      <td>The host canceled this reservation 37 days bef...</td>\n",
       "    </tr>\n",
       "    <tr>\n",
       "      <td>316055</td>\n",
       "      <td>40290464</td>\n",
       "      <td>567280187</td>\n",
       "      <td>2019-11-22</td>\n",
       "      <td>161584846</td>\n",
       "      <td>Nicolas</td>\n",
       "      <td>The host canceled this reservation 36 days bef...</td>\n",
       "    </tr>\n",
       "  </tbody>\n",
       "</table>\n",
       "<p>316056 rows × 6 columns</p>\n",
       "</div>"
      ],
      "text/plain": [
       "        listing_id         id        date  reviewer_id reviewer_name  \\\n",
       "0            17878      64852  2010-07-15       135370           Tia   \n",
       "1            17878      76744  2010-08-11        10206          Mimi   \n",
       "2            17878      91074  2010-09-06        80253           Jan   \n",
       "3            17878     137528  2010-11-12       230449         Orene   \n",
       "4            17878     147594  2010-12-01       219338         David   \n",
       "...            ...        ...         ...          ...           ...   \n",
       "316051    40157438  565279567  2019-11-17    310155650        Andrea   \n",
       "316052    40237024  567395895  2019-11-22    138627562        Thiago   \n",
       "316053    40251786  567015379  2019-11-21      4792833       Padraig   \n",
       "316054    40266786  567192792  2019-11-21    232735567       Bárbara   \n",
       "316055    40290464  567280187  2019-11-22    161584846       Nicolas   \n",
       "\n",
       "                                                 comments  \n",
       "0       This apartment is in a perfect location -- two...  \n",
       "1       we had a really great experience staying in Ma...  \n",
       "2       Staying in Max appartment is like living in a ...  \n",
       "3       In general very good and reasonable price.\\r\\n...  \n",
       "4       The apt was nice and in a great location only ...  \n",
       "...                                                   ...  \n",
       "316051  The host canceled this reservation 44 days bef...  \n",
       "316052  The host canceled this reservation 36 days bef...  \n",
       "316053  The host canceled this reservation 40 days bef...  \n",
       "316054  The host canceled this reservation 37 days bef...  \n",
       "316055  The host canceled this reservation 36 days bef...  \n",
       "\n",
       "[316056 rows x 6 columns]"
      ]
     },
     "execution_count": 40,
     "metadata": {},
     "output_type": "execute_result"
    }
   ],
   "source": [
    "test"
   ]
  },
  {
   "cell_type": "code",
   "execution_count": 41,
   "metadata": {},
   "outputs": [
    {
     "data": {
      "text/plain": [
       "0.019471426510593526"
      ]
     },
     "execution_count": 41,
     "metadata": {},
     "output_type": "execute_result"
    }
   ],
   "source": [
    "proportions = []\n",
    "for review in test['comments']:\n",
    "    try:\n",
    "        if (detect(review) == 'en'):\n",
    "            length = len(review)\n",
    "            review = review.split()\n",
    "            total = 0\n",
    "            for word in df['word']:\n",
    "                total += review.count(word)\n",
    "            proportions.append(total/length)\n",
    "    except:\n",
    "        continue\n",
    "np.mean(proportions)"
   ]
  },
  {
   "cell_type": "code",
   "execution_count": 42,
   "metadata": {},
   "outputs": [
    {
     "data": {
      "text/plain": [
       "'1.9471%'"
      ]
     },
     "execution_count": 42,
     "metadata": {},
     "output_type": "execute_result"
    }
   ],
   "source": [
    "\"{:.4%}\".format(np.mean(proportions))"
   ]
  },
  {
   "cell_type": "code",
   "execution_count": null,
   "metadata": {},
   "outputs": [],
   "source": []
  }
 ],
 "metadata": {
  "kernelspec": {
   "display_name": "Python 3",
   "language": "python",
   "name": "python3"
  },
  "language_info": {
   "codemirror_mode": {
    "name": "ipython",
    "version": 3
   },
   "file_extension": ".py",
   "mimetype": "text/x-python",
   "name": "python",
   "nbconvert_exporter": "python",
   "pygments_lexer": "ipython3",
   "version": "3.7.3"
  }
 },
 "nbformat": 4,
 "nbformat_minor": 2
}
