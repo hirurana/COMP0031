{
 "cells": [
  {
   "cell_type": "code",
   "execution_count": 1,
   "metadata": {},
   "outputs": [],
   "source": [
    "# Add to this script to have all 10 cities on the diagram\n",
    "# I use number of words in review, not how many characters, objections welcome\n",
    "import pandas as pd\n",
    "import seaborn as sns"
   ]
  },
  {
   "cell_type": "code",
   "execution_count": 2,
   "metadata": {},
   "outputs": [],
   "source": [
    "# insert name of csv with english reviews\n",
    "df1 = pd.read_csv('./en_reviews/santiago_en.csv')\n",
    "df2 = pd.read_csv('./en_reviews/buenosaires_en.csv')\n",
    "df3 = pd.read_csv('./en_reviews/singapore_en.csv')\n",
    "df4 = pd.read_csv('./en_reviews/tokyo_en.csv')"
   ]
  },
  {
   "cell_type": "code",
   "execution_count": 3,
   "metadata": {},
   "outputs": [],
   "source": [
    "df1['words'] = df1['comments'].str.lower().str.split()\n",
    "df2['words'] = df2['comments'].str.lower().str.split()\n",
    "df3['words'] = df3['comments'].str.lower().str.split()\n",
    "df4['words'] = df4['comments'].str.lower().str.split()"
   ]
  },
  {
   "cell_type": "code",
   "execution_count": 4,
   "metadata": {},
   "outputs": [],
   "source": [
    "# get wordcount\n",
    "df1['wordcount'] = df1['words'].str.len()\n",
    "df2['wordcount'] = df2['words'].str.len()\n",
    "df3['wordcount'] = df3['words'].str.len()\n",
    "df4['wordcount'] = df4['words'].str.len()"
   ]
  },
  {
   "cell_type": "code",
   "execution_count": 5,
   "metadata": {},
   "outputs": [],
   "source": [
    "# probably not necessary, but why not have it\n",
    "df1.to_csv(r'wordcount/santiago_wordcount.csv')\n",
    "df2.to_csv(r'wordcount/buenosaires_wordcount.csv')\n",
    "df3.to_csv(r'wordcount/singapore_wordcount.csv')\n",
    "df4.to_csv(r'wordcount/tokyo_wordcount.csv')"
   ]
  },
  {
   "cell_type": "code",
   "execution_count": 6,
   "metadata": {},
   "outputs": [],
   "source": [
    "# add your city name\n",
    "df1['location'] = 'Santiago'\n",
    "df2['location'] = 'Buenos Aires'\n",
    "df3['location'] = 'Singapore'\n",
    "df4['location'] = 'Tokyo'"
   ]
  },
  {
   "cell_type": "code",
   "execution_count": 7,
   "metadata": {},
   "outputs": [],
   "source": [
    "dfs = [df1, df2, df3, df4]"
   ]
  },
  {
   "cell_type": "code",
   "execution_count": 8,
   "metadata": {},
   "outputs": [
    {
     "data": {
      "text/html": [
       "<div>\n",
       "<style scoped>\n",
       "    .dataframe tbody tr th:only-of-type {\n",
       "        vertical-align: middle;\n",
       "    }\n",
       "\n",
       "    .dataframe tbody tr th {\n",
       "        vertical-align: top;\n",
       "    }\n",
       "\n",
       "    .dataframe thead th {\n",
       "        text-align: right;\n",
       "    }\n",
       "</style>\n",
       "<table border=\"1\" class=\"dataframe\">\n",
       "  <thead>\n",
       "    <tr style=\"text-align: right;\">\n",
       "      <th></th>\n",
       "      <th>Unnamed: 0</th>\n",
       "      <th>listing_id</th>\n",
       "      <th>id</th>\n",
       "      <th>date</th>\n",
       "      <th>reviewer_id</th>\n",
       "      <th>reviewer_name</th>\n",
       "      <th>comments</th>\n",
       "      <th>langs</th>\n",
       "      <th>words</th>\n",
       "      <th>wordcount</th>\n",
       "      <th>location</th>\n",
       "    </tr>\n",
       "  </thead>\n",
       "  <tbody>\n",
       "    <tr>\n",
       "      <th>0</th>\n",
       "      <td>1</td>\n",
       "      <td>50474</td>\n",
       "      <td>10420113</td>\n",
       "      <td>2014-02-18</td>\n",
       "      <td>8184070</td>\n",
       "      <td>Billy</td>\n",
       "      <td>I enjoyed my stay in Santiago, Marcela was ext...</td>\n",
       "      <td>en</td>\n",
       "      <td>[i, enjoyed, my, stay, in, santiago,, marcela,...</td>\n",
       "      <td>13</td>\n",
       "      <td>Santiago</td>\n",
       "    </tr>\n",
       "    <tr>\n",
       "      <th>1</th>\n",
       "      <td>6</td>\n",
       "      <td>50474</td>\n",
       "      <td>52984230</td>\n",
       "      <td>2015-11-03</td>\n",
       "      <td>19365321</td>\n",
       "      <td>Seamus</td>\n",
       "      <td>Great apartment near the metro and a good shop...</td>\n",
       "      <td>en</td>\n",
       "      <td>[great, apartment, near, the, metro, and, a, g...</td>\n",
       "      <td>32</td>\n",
       "      <td>Santiago</td>\n",
       "    </tr>\n",
       "    <tr>\n",
       "      <th>2</th>\n",
       "      <td>8</td>\n",
       "      <td>50474</td>\n",
       "      <td>55534788</td>\n",
       "      <td>2015-12-01</td>\n",
       "      <td>3364197</td>\n",
       "      <td>Milli</td>\n",
       "      <td>Great place! Really enjoyed the location of wh...</td>\n",
       "      <td>en</td>\n",
       "      <td>[great, place!, really, enjoyed, the, location...</td>\n",
       "      <td>47</td>\n",
       "      <td>Santiago</td>\n",
       "    </tr>\n",
       "    <tr>\n",
       "      <th>3</th>\n",
       "      <td>10</td>\n",
       "      <td>50474</td>\n",
       "      <td>56850064</td>\n",
       "      <td>2015-12-19</td>\n",
       "      <td>47757691</td>\n",
       "      <td>Andrei</td>\n",
       "      <td>Everything was like in the pictures/descriptio...</td>\n",
       "      <td>en</td>\n",
       "      <td>[everything, was, like, in, the, pictures/desc...</td>\n",
       "      <td>21</td>\n",
       "      <td>Santiago</td>\n",
       "    </tr>\n",
       "    <tr>\n",
       "      <th>4</th>\n",
       "      <td>12</td>\n",
       "      <td>50474</td>\n",
       "      <td>59382872</td>\n",
       "      <td>2016-01-10</td>\n",
       "      <td>50306842</td>\n",
       "      <td>Adriana</td>\n",
       "      <td>Marcela was very helpful and always comunicate...</td>\n",
       "      <td>en</td>\n",
       "      <td>[marcela, was, very, helpful, and, always, com...</td>\n",
       "      <td>59</td>\n",
       "      <td>Santiago</td>\n",
       "    </tr>\n",
       "    <tr>\n",
       "      <th>...</th>\n",
       "      <td>...</td>\n",
       "      <td>...</td>\n",
       "      <td>...</td>\n",
       "      <td>...</td>\n",
       "      <td>...</td>\n",
       "      <td>...</td>\n",
       "      <td>...</td>\n",
       "      <td>...</td>\n",
       "      <td>...</td>\n",
       "      <td>...</td>\n",
       "      <td>...</td>\n",
       "    </tr>\n",
       "    <tr>\n",
       "      <th>235399</th>\n",
       "      <td>373330</td>\n",
       "      <td>40148789</td>\n",
       "      <td>567628035</td>\n",
       "      <td>2019-11-23</td>\n",
       "      <td>25926619</td>\n",
       "      <td>Mizuki</td>\n",
       "      <td>It is a nice cozy room. Very near to the stati...</td>\n",
       "      <td>en</td>\n",
       "      <td>[it, is, a, nice, cozy, room., very, near, to,...</td>\n",
       "      <td>24</td>\n",
       "      <td>Tokyo</td>\n",
       "    </tr>\n",
       "    <tr>\n",
       "      <th>235400</th>\n",
       "      <td>373332</td>\n",
       "      <td>40155090</td>\n",
       "      <td>567638389</td>\n",
       "      <td>2019-11-23</td>\n",
       "      <td>64148135</td>\n",
       "      <td>Sophie</td>\n",
       "      <td>Great room in a very central location. Very cl...</td>\n",
       "      <td>en</td>\n",
       "      <td>[great, room, in, a, very, central, location.,...</td>\n",
       "      <td>14</td>\n",
       "      <td>Tokyo</td>\n",
       "    </tr>\n",
       "    <tr>\n",
       "      <th>235401</th>\n",
       "      <td>373333</td>\n",
       "      <td>40162550</td>\n",
       "      <td>568061780</td>\n",
       "      <td>2019-11-24</td>\n",
       "      <td>127609714</td>\n",
       "      <td>Bonnie</td>\n",
       "      <td>A great location and stylish place. Host is gr...</td>\n",
       "      <td>en</td>\n",
       "      <td>[a, great, location, and, stylish, place., hos...</td>\n",
       "      <td>29</td>\n",
       "      <td>Tokyo</td>\n",
       "    </tr>\n",
       "    <tr>\n",
       "      <th>235402</th>\n",
       "      <td>373334</td>\n",
       "      <td>40162550</td>\n",
       "      <td>569588204</td>\n",
       "      <td>2019-11-27</td>\n",
       "      <td>74054421</td>\n",
       "      <td>David</td>\n",
       "      <td>Amazing places, its just like my apparent  bac...</td>\n",
       "      <td>en</td>\n",
       "      <td>[amazing, places,, its, just, like, my, appare...</td>\n",
       "      <td>34</td>\n",
       "      <td>Tokyo</td>\n",
       "    </tr>\n",
       "    <tr>\n",
       "      <th>235403</th>\n",
       "      <td>373339</td>\n",
       "      <td>40221096</td>\n",
       "      <td>568051681</td>\n",
       "      <td>2019-11-24</td>\n",
       "      <td>303192194</td>\n",
       "      <td>Yedija</td>\n",
       "      <td>What a wonderful host! Super kind, responsive,...</td>\n",
       "      <td>en</td>\n",
       "      <td>[what, a, wonderful, host!, super, kind,, resp...</td>\n",
       "      <td>26</td>\n",
       "      <td>Tokyo</td>\n",
       "    </tr>\n",
       "  </tbody>\n",
       "</table>\n",
       "<p>434258 rows × 11 columns</p>\n",
       "</div>"
      ],
      "text/plain": [
       "        Unnamed: 0  listing_id         id        date  reviewer_id  \\\n",
       "0                1       50474   10420113  2014-02-18      8184070   \n",
       "1                6       50474   52984230  2015-11-03     19365321   \n",
       "2                8       50474   55534788  2015-12-01      3364197   \n",
       "3               10       50474   56850064  2015-12-19     47757691   \n",
       "4               12       50474   59382872  2016-01-10     50306842   \n",
       "...            ...         ...        ...         ...          ...   \n",
       "235399      373330    40148789  567628035  2019-11-23     25926619   \n",
       "235400      373332    40155090  567638389  2019-11-23     64148135   \n",
       "235401      373333    40162550  568061780  2019-11-24    127609714   \n",
       "235402      373334    40162550  569588204  2019-11-27     74054421   \n",
       "235403      373339    40221096  568051681  2019-11-24    303192194   \n",
       "\n",
       "       reviewer_name                                           comments langs  \\\n",
       "0              Billy  I enjoyed my stay in Santiago, Marcela was ext...    en   \n",
       "1             Seamus  Great apartment near the metro and a good shop...    en   \n",
       "2              Milli  Great place! Really enjoyed the location of wh...    en   \n",
       "3             Andrei  Everything was like in the pictures/descriptio...    en   \n",
       "4            Adriana  Marcela was very helpful and always comunicate...    en   \n",
       "...              ...                                                ...   ...   \n",
       "235399        Mizuki  It is a nice cozy room. Very near to the stati...    en   \n",
       "235400        Sophie  Great room in a very central location. Very cl...    en   \n",
       "235401        Bonnie  A great location and stylish place. Host is gr...    en   \n",
       "235402         David  Amazing places, its just like my apparent  bac...    en   \n",
       "235403        Yedija  What a wonderful host! Super kind, responsive,...    en   \n",
       "\n",
       "                                                    words  wordcount  location  \n",
       "0       [i, enjoyed, my, stay, in, santiago,, marcela,...         13  Santiago  \n",
       "1       [great, apartment, near, the, metro, and, a, g...         32  Santiago  \n",
       "2       [great, place!, really, enjoyed, the, location...         47  Santiago  \n",
       "3       [everything, was, like, in, the, pictures/desc...         21  Santiago  \n",
       "4       [marcela, was, very, helpful, and, always, com...         59  Santiago  \n",
       "...                                                   ...        ...       ...  \n",
       "235399  [it, is, a, nice, cozy, room., very, near, to,...         24     Tokyo  \n",
       "235400  [great, room, in, a, very, central, location.,...         14     Tokyo  \n",
       "235401  [a, great, location, and, stylish, place., hos...         29     Tokyo  \n",
       "235402  [amazing, places,, its, just, like, my, appare...         34     Tokyo  \n",
       "235403  [what, a, wonderful, host!, super, kind,, resp...         26     Tokyo  \n",
       "\n",
       "[434258 rows x 11 columns]"
      ]
     },
     "execution_count": 8,
     "metadata": {},
     "output_type": "execute_result"
    }
   ],
   "source": [
    "test = pd.concat(dfs, sort=False)\n",
    "test"
   ]
  },
  {
   "cell_type": "code",
   "execution_count": 9,
   "metadata": {},
   "outputs": [
    {
     "data": {
      "image/png": "[encoded data removed]",
      "text/plain": [
       "<Figure size 432x288 with 1 Axes>"
      ]
     },
     "metadata": {
      "needs_background": "light"
     },
     "output_type": "display_data"
    }
   ],
   "source": [
    "ax = sns.boxplot(x=\"location\", y=\"wordcount\", data=test, linewidth=1.5)\n",
    "ax.yaxis.grid(True) # Hide the horizontal gridlines\n",
    "# boxplot = test.boxplot(column=['wordcount'], by='location')"
   ]
  },
  {
   "cell_type": "code",
   "execution_count": 10,
   "metadata": {},
   "outputs": [
    {
     "data": {
      "text/plain": [
       "[(0, 250)]"
      ]
     },
     "execution_count": 10,
     "metadata": {},
     "output_type": "execute_result"
    },
    {
     "data": {
      "image/png": "[encoded data removed]",
      "text/plain": [
       "<Figure size 432x288 with 1 Axes>"
      ]
     },
     "metadata": {
      "needs_background": "light"
     },
     "output_type": "display_data"
    }
   ],
   "source": [
    "# closer look at the data\n",
    "ax = sns.boxplot(x=\"location\", y=\"wordcount\", data=test, linewidth=1.5)\n",
    "ax.yaxis.grid(True) # Hide the horizontal gridlines\n",
    "ax.set(ylim=(0, 250))"
   ]
  },
  {
   "cell_type": "code",
   "execution_count": null,
   "metadata": {},
   "outputs": [],
   "source": []
  }
 ],
 "metadata": {
  "kernelspec": {
   "display_name": "Python 3",
   "language": "python",
   "name": "python3"
  },
  "language_info": {
   "codemirror_mode": {
    "name": "ipython",
    "version": 3
   },
   "file_extension": ".py",
   "mimetype": "text/x-python",
   "name": "python",
   "nbconvert_exporter": "python",
   "pygments_lexer": "ipython3",
   "version": "3.7.3"
  }
 },
 "nbformat": 4,
 "nbformat_minor": 2
}
