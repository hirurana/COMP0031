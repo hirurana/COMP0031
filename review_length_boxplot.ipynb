{
 "cells": [
  {
   "cell_type": "code",
   "execution_count": 1,
   "metadata": {},
   "outputs": [],
   "source": [
    "# Add to this script to have all 10 cities on the diagram\n",
    "# I use number of words in review, not how many characters, objections welcome\n",
    "import pandas as pd\n",
    "import seaborn as sns"
   ]
  },
  {
   "cell_type": "code",
   "execution_count": 2,
   "metadata": {},
   "outputs": [],
   "source": [
    "# insert name of csv with english reviews\n",
    "df1 = pd.read_csv('./en_reviews/santiago_en.csv')\n",
    "df2 = pd.read_csv('./en_reviews/buenosaires_en.csv')\n",
    "df3 = pd.read_csv('./en_reviews/singapore_en.csv')\n",
    "df4 = pd.read_csv('./en_reviews/tokyo_en.csv')\n",
    "df5 = pd.read_csv('./en_reviews/taipei_en.csv')\n",
    "df6 = pd.read_csv('./en_reviews/brazil_en.csv')"
   ]
  },
  {
   "cell_type": "code",
   "execution_count": 3,
   "metadata": {},
   "outputs": [],
   "source": [
    "df1['words'] = df1['comments'].str.lower().str.split()\n",
    "df2['words'] = df2['comments'].str.lower().str.split()\n",
    "df3['words'] = df3['comments'].str.lower().str.split()\n",
    "df4['words'] = df4['comments'].str.lower().str.split()\n",
    "df5['words'] = df5['comments'].str.lower().str.split()\n",
    "df6['words'] = df6['comments'].str.lower().str.split()"
   ]
  },
  {
   "cell_type": "code",
   "execution_count": 4,
   "metadata": {},
   "outputs": [],
   "source": [
    "# get wordcount\n",
    "df1['wordcount'] = df1['words'].str.len()\n",
    "df2['wordcount'] = df2['words'].str.len()\n",
    "df3['wordcount'] = df3['words'].str.len()\n",
    "df4['wordcount'] = df4['words'].str.len()\n",
    "df5['wordcount'] = df5['words'].str.len()\n",
    "df6['wordcount'] = df6['words'].str.len()"
   ]
  },
  {
   "cell_type": "code",
   "execution_count": 5,
   "metadata": {},
   "outputs": [],
   "source": [
    "# probably not necessary, but why not have it\n",
    "df1.to_csv(r'wordcount/santiago_wordcount.csv')\n",
    "df2.to_csv(r'wordcount/buenosaires_wordcount.csv')\n",
    "df3.to_csv(r'wordcount/singapore_wordcount.csv')\n",
    "df4.to_csv(r'wordcount/tokyo_wordcount.csv')\n",
    "df5.to_csv(r'wordcount/taipei_wordcount.csv')\n",
    "df6.to_csv(r'wordcount/brazil_wordcount.csv')"
   ]
  },
  {
   "cell_type": "code",
   "execution_count": 6,
   "metadata": {},
   "outputs": [],
   "source": [
    "# add your city name\n",
    "df1['location'] = 'Santiago'\n",
    "df2['location'] = 'Buenos Aires'\n",
    "df3['location'] = 'Singapore'\n",
    "df4['location'] = 'Tokyo'\n",
    "df5['location'] = 'Taipei'\n",
    "df6['location'] = 'Brazil'"
   ]
  },
  {
   "cell_type": "code",
   "execution_count": 7,
   "metadata": {},
   "outputs": [],
   "source": [
    "dfs = [df1, df2, df3, df4, df5, df6]"
   ]
  },
  {
   "cell_type": "code",
   "execution_count": 8,
   "metadata": {},
   "outputs": [
    {
     "data": {
      "text/html": [
       "<div>\n",
       "<style scoped>\n",
       "    .dataframe tbody tr th:only-of-type {\n",
       "        vertical-align: middle;\n",
       "    }\n",
       "\n",
       "    .dataframe tbody tr th {\n",
       "        vertical-align: top;\n",
       "    }\n",
       "\n",
       "    .dataframe thead th {\n",
       "        text-align: right;\n",
       "    }\n",
       "</style>\n",
       "<table border=\"1\" class=\"dataframe\">\n",
       "  <thead>\n",
       "    <tr style=\"text-align: right;\">\n",
       "      <th></th>\n",
       "      <th>Unnamed: 0</th>\n",
       "      <th>listing_id</th>\n",
       "      <th>id</th>\n",
       "      <th>date</th>\n",
       "      <th>reviewer_id</th>\n",
       "      <th>reviewer_name</th>\n",
       "      <th>comments</th>\n",
       "      <th>langs</th>\n",
       "      <th>words</th>\n",
       "      <th>wordcount</th>\n",
       "      <th>location</th>\n",
       "    </tr>\n",
       "  </thead>\n",
       "  <tbody>\n",
       "    <tr>\n",
       "      <th>0</th>\n",
       "      <td>1</td>\n",
       "      <td>50474</td>\n",
       "      <td>10420113</td>\n",
       "      <td>2014-02-18</td>\n",
       "      <td>8184070</td>\n",
       "      <td>Billy</td>\n",
       "      <td>I enjoyed my stay in Santiago, Marcela was ext...</td>\n",
       "      <td>en</td>\n",
       "      <td>[i, enjoyed, my, stay, in, santiago,, marcela,...</td>\n",
       "      <td>13</td>\n",
       "      <td>Santiago</td>\n",
       "    </tr>\n",
       "    <tr>\n",
       "      <th>1</th>\n",
       "      <td>6</td>\n",
       "      <td>50474</td>\n",
       "      <td>52984230</td>\n",
       "      <td>2015-11-03</td>\n",
       "      <td>19365321</td>\n",
       "      <td>Seamus</td>\n",
       "      <td>Great apartment near the metro and a good shop...</td>\n",
       "      <td>en</td>\n",
       "      <td>[great, apartment, near, the, metro, and, a, g...</td>\n",
       "      <td>32</td>\n",
       "      <td>Santiago</td>\n",
       "    </tr>\n",
       "    <tr>\n",
       "      <th>2</th>\n",
       "      <td>8</td>\n",
       "      <td>50474</td>\n",
       "      <td>55534788</td>\n",
       "      <td>2015-12-01</td>\n",
       "      <td>3364197</td>\n",
       "      <td>Milli</td>\n",
       "      <td>Great place! Really enjoyed the location of wh...</td>\n",
       "      <td>en</td>\n",
       "      <td>[great, place!, really, enjoyed, the, location...</td>\n",
       "      <td>47</td>\n",
       "      <td>Santiago</td>\n",
       "    </tr>\n",
       "    <tr>\n",
       "      <th>3</th>\n",
       "      <td>10</td>\n",
       "      <td>50474</td>\n",
       "      <td>56850064</td>\n",
       "      <td>2015-12-19</td>\n",
       "      <td>47757691</td>\n",
       "      <td>Andrei</td>\n",
       "      <td>Everything was like in the pictures/descriptio...</td>\n",
       "      <td>en</td>\n",
       "      <td>[everything, was, like, in, the, pictures/desc...</td>\n",
       "      <td>21</td>\n",
       "      <td>Santiago</td>\n",
       "    </tr>\n",
       "    <tr>\n",
       "      <th>4</th>\n",
       "      <td>12</td>\n",
       "      <td>50474</td>\n",
       "      <td>59382872</td>\n",
       "      <td>2016-01-10</td>\n",
       "      <td>50306842</td>\n",
       "      <td>Adriana</td>\n",
       "      <td>Marcela was very helpful and always comunicate...</td>\n",
       "      <td>en</td>\n",
       "      <td>[marcela, was, very, helpful, and, always, com...</td>\n",
       "      <td>59</td>\n",
       "      <td>Santiago</td>\n",
       "    </tr>\n",
       "    <tr>\n",
       "      <th>...</th>\n",
       "      <td>...</td>\n",
       "      <td>...</td>\n",
       "      <td>...</td>\n",
       "      <td>...</td>\n",
       "      <td>...</td>\n",
       "      <td>...</td>\n",
       "      <td>...</td>\n",
       "      <td>...</td>\n",
       "      <td>...</td>\n",
       "      <td>...</td>\n",
       "      <td>...</td>\n",
       "    </tr>\n",
       "    <tr>\n",
       "      <th>80745</th>\n",
       "      <td>315997</td>\n",
       "      <td>39864187</td>\n",
       "      <td>566446623</td>\n",
       "      <td>2019-11-19</td>\n",
       "      <td>93480623</td>\n",
       "      <td>Kim</td>\n",
       "      <td>Rodrigo‘s apartment was located in a great are...</td>\n",
       "      <td>en</td>\n",
       "      <td>[rodrigo‘s, apartment, was, located, in, a, gr...</td>\n",
       "      <td>46</td>\n",
       "      <td>Brazil</td>\n",
       "    </tr>\n",
       "    <tr>\n",
       "      <th>80746</th>\n",
       "      <td>316000</td>\n",
       "      <td>39873863</td>\n",
       "      <td>561018925</td>\n",
       "      <td>2019-11-08</td>\n",
       "      <td>156300155</td>\n",
       "      <td>Alfie</td>\n",
       "      <td>Place is nice and clean.  Close to the beach a...</td>\n",
       "      <td>en</td>\n",
       "      <td>[place, is, nice, and, clean., close, to, the,...</td>\n",
       "      <td>59</td>\n",
       "      <td>Brazil</td>\n",
       "    </tr>\n",
       "    <tr>\n",
       "      <th>80747</th>\n",
       "      <td>316002</td>\n",
       "      <td>39886303</td>\n",
       "      <td>566017607</td>\n",
       "      <td>2019-11-18</td>\n",
       "      <td>10587665</td>\n",
       "      <td>Fernando</td>\n",
       "      <td>Great apartment! Modern and stylish... good ta...</td>\n",
       "      <td>en</td>\n",
       "      <td>[great, apartment!, modern, and, stylish..., g...</td>\n",
       "      <td>9</td>\n",
       "      <td>Brazil</td>\n",
       "    </tr>\n",
       "    <tr>\n",
       "      <th>80748</th>\n",
       "      <td>316008</td>\n",
       "      <td>39897049</td>\n",
       "      <td>563308292</td>\n",
       "      <td>2019-11-12</td>\n",
       "      <td>102264039</td>\n",
       "      <td>Jean-Louis</td>\n",
       "      <td>Luis is a really good host.\\nHe is very attent...</td>\n",
       "      <td>en</td>\n",
       "      <td>[luis, is, a, really, good, host., he, is, ver...</td>\n",
       "      <td>42</td>\n",
       "      <td>Brazil</td>\n",
       "    </tr>\n",
       "    <tr>\n",
       "      <th>80749</th>\n",
       "      <td>316049</td>\n",
       "      <td>40116230</td>\n",
       "      <td>565434052</td>\n",
       "      <td>2019-11-17</td>\n",
       "      <td>19458220</td>\n",
       "      <td>Juan</td>\n",
       "      <td>Great stay)</td>\n",
       "      <td>en</td>\n",
       "      <td>[great, stay)]</td>\n",
       "      <td>2</td>\n",
       "      <td>Brazil</td>\n",
       "    </tr>\n",
       "  </tbody>\n",
       "</table>\n",
       "<p>656417 rows × 11 columns</p>\n",
       "</div>"
      ],
      "text/plain": [
       "       Unnamed: 0  listing_id         id        date  reviewer_id  \\\n",
       "0               1       50474   10420113  2014-02-18      8184070   \n",
       "1               6       50474   52984230  2015-11-03     19365321   \n",
       "2               8       50474   55534788  2015-12-01      3364197   \n",
       "3              10       50474   56850064  2015-12-19     47757691   \n",
       "4              12       50474   59382872  2016-01-10     50306842   \n",
       "...           ...         ...        ...         ...          ...   \n",
       "80745      315997    39864187  566446623  2019-11-19     93480623   \n",
       "80746      316000    39873863  561018925  2019-11-08    156300155   \n",
       "80747      316002    39886303  566017607  2019-11-18     10587665   \n",
       "80748      316008    39897049  563308292  2019-11-12    102264039   \n",
       "80749      316049    40116230  565434052  2019-11-17     19458220   \n",
       "\n",
       "      reviewer_name                                           comments langs  \\\n",
       "0             Billy  I enjoyed my stay in Santiago, Marcela was ext...    en   \n",
       "1            Seamus  Great apartment near the metro and a good shop...    en   \n",
       "2             Milli  Great place! Really enjoyed the location of wh...    en   \n",
       "3            Andrei  Everything was like in the pictures/descriptio...    en   \n",
       "4           Adriana  Marcela was very helpful and always comunicate...    en   \n",
       "...             ...                                                ...   ...   \n",
       "80745           Kim  Rodrigo‘s apartment was located in a great are...    en   \n",
       "80746         Alfie  Place is nice and clean.  Close to the beach a...    en   \n",
       "80747      Fernando  Great apartment! Modern and stylish... good ta...    en   \n",
       "80748    Jean-Louis  Luis is a really good host.\\nHe is very attent...    en   \n",
       "80749          Juan                                        Great stay)    en   \n",
       "\n",
       "                                                   words  wordcount  location  \n",
       "0      [i, enjoyed, my, stay, in, santiago,, marcela,...         13  Santiago  \n",
       "1      [great, apartment, near, the, metro, and, a, g...         32  Santiago  \n",
       "2      [great, place!, really, enjoyed, the, location...         47  Santiago  \n",
       "3      [everything, was, like, in, the, pictures/desc...         21  Santiago  \n",
       "4      [marcela, was, very, helpful, and, always, com...         59  Santiago  \n",
       "...                                                  ...        ...       ...  \n",
       "80745  [rodrigo‘s, apartment, was, located, in, a, gr...         46    Brazil  \n",
       "80746  [place, is, nice, and, clean., close, to, the,...         59    Brazil  \n",
       "80747  [great, apartment!, modern, and, stylish..., g...          9    Brazil  \n",
       "80748  [luis, is, a, really, good, host., he, is, ver...         42    Brazil  \n",
       "80749                                     [great, stay)]          2    Brazil  \n",
       "\n",
       "[656417 rows x 11 columns]"
      ]
     },
     "execution_count": 8,
     "metadata": {},
     "output_type": "execute_result"
    }
   ],
   "source": [
    "test = pd.concat(dfs, sort=False)\n",
    "test"
   ]
  },
  {
   "cell_type": "code",
   "execution_count": 9,
   "metadata": {},
   "outputs": [
    {
     "data": {
      "image/png": "[encoded data removed]",
      "text/plain": [
       "<Figure size 432x288 with 1 Axes>"
      ]
     },
     "metadata": {},
     "output_type": "display_data"
    }
   ],
   "source": [
    "ax = sns.boxplot(x=\"location\", y=\"wordcount\", data=test, linewidth=1.5)\n",
    "ax.yaxis.grid(True) # Hide the horizontal gridlines\n",
    "# boxplot = test.boxplot(column=['wordcount'], by='location')"
   ]
  },
  {
   "cell_type": "code",
   "execution_count": 10,
   "metadata": {},
   "outputs": [
    {
     "data": {
      "text/plain": [
       "[(0, 250)]"
      ]
     },
     "execution_count": 10,
     "metadata": {},
     "output_type": "execute_result"
    },
    {
     "data": {
      "image/png": "[encoded data removed]",
      "text/plain": [
       "<Figure size 432x288 with 1 Axes>"
      ]
     },
     "metadata": {},
     "output_type": "display_data"
    }
   ],
   "source": [
    "# closer look at the data\n",
    "ax = sns.boxplot(x=\"location\", y=\"wordcount\", data=test, linewidth=1.5)\n",
    "ax.yaxis.grid(True) # Hide the horizontal gridlines\n",
    "ax.set(ylim=(0, 250))"
   ]
  }
 ],
 "metadata": {
  "kernelspec": {
   "display_name": "Python 3",
   "language": "python",
   "name": "python3"
  },
  "language_info": {
   "codemirror_mode": {
    "name": "ipython",
    "version": 3
   },
   "file_extension": ".py",
   "mimetype": "text/x-python",
   "name": "python",
   "nbconvert_exporter": "python",
   "pygments_lexer": "ipython3",
   "version": "3.6.5"
  }
 },
 "nbformat": 4,
 "nbformat_minor": 2
}
