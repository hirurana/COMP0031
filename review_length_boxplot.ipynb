{
 "cells": [
  {
   "cell_type": "code",
   "execution_count": 29,
   "metadata": {},
   "outputs": [],
   "source": [
    "# Add to this script to have all 10 cities on the diagram\n",
    "# I use number of words in review, not how many characters, objections welcome\n",
    "import pandas as pd\n",
    "import seaborn as sns"
   ]
  },
  {
   "cell_type": "code",
   "execution_count": 30,
   "metadata": {},
   "outputs": [],
   "source": [
    "# insert name of csv with english reviews\n",
    "df1 = pd.read_csv('./en_reviews/santiago_en.csv')\n",
    "df2 = pd.read_csv('./en_reviews/buenosaires_en.csv')"
   ]
  },
  {
   "cell_type": "code",
   "execution_count": 31,
   "metadata": {},
   "outputs": [],
   "source": [
    "df1['words'] = df1['comments'].str.lower().str.split()\n",
    "df2['words'] = df2['comments'].str.lower().str.split()"
   ]
  },
  {
   "cell_type": "code",
   "execution_count": 32,
   "metadata": {},
   "outputs": [],
   "source": [
    "# get wordcount\n",
    "df1['wordcount'] = df1['words'].str.len()\n",
    "df2['wordcount'] = df2['words'].str.len()"
   ]
  },
  {
   "cell_type": "code",
   "execution_count": 33,
   "metadata": {},
   "outputs": [],
   "source": [
    "# probably not necessary, but why not have it\n",
    "df1.to_csv(r'wordcount/santiago_wordcount.csv')\n",
    "df2.to_csv(r'wordcount/buenosaires_wordcount.csv')"
   ]
  },
  {
   "cell_type": "code",
   "execution_count": 34,
   "metadata": {},
   "outputs": [],
   "source": [
    "# add your city name\n",
    "df1['location'] = 'Santiago'\n",
    "df2['location'] = 'Buenos Aires'"
   ]
  },
  {
   "cell_type": "code",
   "execution_count": 35,
   "metadata": {},
   "outputs": [],
   "source": [
    "dfs = [df1, df2]"
   ]
  },
  {
   "cell_type": "code",
   "execution_count": 36,
   "metadata": {},
   "outputs": [
    {
     "data": {
      "text/html": [
       "<div>\n",
       "<style scoped>\n",
       "    .dataframe tbody tr th:only-of-type {\n",
       "        vertical-align: middle;\n",
       "    }\n",
       "\n",
       "    .dataframe tbody tr th {\n",
       "        vertical-align: top;\n",
       "    }\n",
       "\n",
       "    .dataframe thead th {\n",
       "        text-align: right;\n",
       "    }\n",
       "</style>\n",
       "<table border=\"1\" class=\"dataframe\">\n",
       "  <thead>\n",
       "    <tr style=\"text-align: right;\">\n",
       "      <th></th>\n",
       "      <th>Unnamed: 0</th>\n",
       "      <th>listing_id</th>\n",
       "      <th>id</th>\n",
       "      <th>date</th>\n",
       "      <th>reviewer_id</th>\n",
       "      <th>reviewer_name</th>\n",
       "      <th>comments</th>\n",
       "      <th>langs</th>\n",
       "      <th>words</th>\n",
       "      <th>wordcount</th>\n",
       "      <th>location</th>\n",
       "    </tr>\n",
       "  </thead>\n",
       "  <tbody>\n",
       "    <tr>\n",
       "      <td>0</td>\n",
       "      <td>1</td>\n",
       "      <td>50474</td>\n",
       "      <td>10420113</td>\n",
       "      <td>2014-02-18</td>\n",
       "      <td>8184070</td>\n",
       "      <td>Billy</td>\n",
       "      <td>I enjoyed my stay in Santiago, Marcela was ext...</td>\n",
       "      <td>en</td>\n",
       "      <td>[i, enjoyed, my, stay, in, santiago,, marcela,...</td>\n",
       "      <td>13</td>\n",
       "      <td>Santiago</td>\n",
       "    </tr>\n",
       "    <tr>\n",
       "      <td>1</td>\n",
       "      <td>6</td>\n",
       "      <td>50474</td>\n",
       "      <td>52984230</td>\n",
       "      <td>2015-11-03</td>\n",
       "      <td>19365321</td>\n",
       "      <td>Seamus</td>\n",
       "      <td>Great apartment near the metro and a good shop...</td>\n",
       "      <td>en</td>\n",
       "      <td>[great, apartment, near, the, metro, and, a, g...</td>\n",
       "      <td>32</td>\n",
       "      <td>Santiago</td>\n",
       "    </tr>\n",
       "    <tr>\n",
       "      <td>2</td>\n",
       "      <td>8</td>\n",
       "      <td>50474</td>\n",
       "      <td>55534788</td>\n",
       "      <td>2015-12-01</td>\n",
       "      <td>3364197</td>\n",
       "      <td>Milli</td>\n",
       "      <td>Great place! Really enjoyed the location of wh...</td>\n",
       "      <td>en</td>\n",
       "      <td>[great, place!, really, enjoyed, the, location...</td>\n",
       "      <td>47</td>\n",
       "      <td>Santiago</td>\n",
       "    </tr>\n",
       "    <tr>\n",
       "      <td>3</td>\n",
       "      <td>10</td>\n",
       "      <td>50474</td>\n",
       "      <td>56850064</td>\n",
       "      <td>2015-12-19</td>\n",
       "      <td>47757691</td>\n",
       "      <td>Andrei</td>\n",
       "      <td>Everything was like in the pictures/descriptio...</td>\n",
       "      <td>en</td>\n",
       "      <td>[everything, was, like, in, the, pictures/desc...</td>\n",
       "      <td>21</td>\n",
       "      <td>Santiago</td>\n",
       "    </tr>\n",
       "    <tr>\n",
       "      <td>4</td>\n",
       "      <td>12</td>\n",
       "      <td>50474</td>\n",
       "      <td>59382872</td>\n",
       "      <td>2016-01-10</td>\n",
       "      <td>50306842</td>\n",
       "      <td>Adriana</td>\n",
       "      <td>Marcela was very helpful and always comunicate...</td>\n",
       "      <td>en</td>\n",
       "      <td>[marcela, was, very, helpful, and, always, com...</td>\n",
       "      <td>59</td>\n",
       "      <td>Santiago</td>\n",
       "    </tr>\n",
       "    <tr>\n",
       "      <td>...</td>\n",
       "      <td>...</td>\n",
       "      <td>...</td>\n",
       "      <td>...</td>\n",
       "      <td>...</td>\n",
       "      <td>...</td>\n",
       "      <td>...</td>\n",
       "      <td>...</td>\n",
       "      <td>...</td>\n",
       "      <td>...</td>\n",
       "      <td>...</td>\n",
       "      <td>...</td>\n",
       "    </tr>\n",
       "    <tr>\n",
       "      <td>111367</td>\n",
       "      <td>354155</td>\n",
       "      <td>40013205</td>\n",
       "      <td>566083416</td>\n",
       "      <td>2019-11-18</td>\n",
       "      <td>97535792</td>\n",
       "      <td>Johan</td>\n",
       "      <td>Everything was good with Noelia's appartment ,...</td>\n",
       "      <td>en</td>\n",
       "      <td>[everything, was, good, with, noelia's, appart...</td>\n",
       "      <td>15</td>\n",
       "      <td>Buenos Aires</td>\n",
       "    </tr>\n",
       "    <tr>\n",
       "      <td>111368</td>\n",
       "      <td>354173</td>\n",
       "      <td>40061613</td>\n",
       "      <td>566475410</td>\n",
       "      <td>2019-11-19</td>\n",
       "      <td>6304935</td>\n",
       "      <td>Ariel</td>\n",
       "      <td>Great little place at the best location in tow...</td>\n",
       "      <td>en</td>\n",
       "      <td>[great, little, place, at, the, best, location...</td>\n",
       "      <td>16</td>\n",
       "      <td>Buenos Aires</td>\n",
       "    </tr>\n",
       "    <tr>\n",
       "      <td>111369</td>\n",
       "      <td>354179</td>\n",
       "      <td>40080976</td>\n",
       "      <td>568459843</td>\n",
       "      <td>2019-11-24</td>\n",
       "      <td>299364524</td>\n",
       "      <td>Dvir</td>\n",
       "      <td>The apartment is located in a really good and ...</td>\n",
       "      <td>en</td>\n",
       "      <td>[the, apartment, is, located, in, a, really, g...</td>\n",
       "      <td>50</td>\n",
       "      <td>Buenos Aires</td>\n",
       "    </tr>\n",
       "    <tr>\n",
       "      <td>111370</td>\n",
       "      <td>354188</td>\n",
       "      <td>40131070</td>\n",
       "      <td>568492128</td>\n",
       "      <td>2019-11-24</td>\n",
       "      <td>34965075</td>\n",
       "      <td>Viviana</td>\n",
       "      <td>Thomas was great and flexible also did respond...</td>\n",
       "      <td>en</td>\n",
       "      <td>[thomas, was, great, and, flexible, also, did,...</td>\n",
       "      <td>29</td>\n",
       "      <td>Buenos Aires</td>\n",
       "    </tr>\n",
       "    <tr>\n",
       "      <td>111371</td>\n",
       "      <td>354195</td>\n",
       "      <td>40152175</td>\n",
       "      <td>566040756</td>\n",
       "      <td>2019-11-18</td>\n",
       "      <td>265662103</td>\n",
       "      <td>Simon</td>\n",
       "      <td>Alejandro is a very kindly host with a beautif...</td>\n",
       "      <td>en</td>\n",
       "      <td>[alejandro, is, a, very, kindly, host, with, a...</td>\n",
       "      <td>19</td>\n",
       "      <td>Buenos Aires</td>\n",
       "    </tr>\n",
       "  </tbody>\n",
       "</table>\n",
       "<p>111778 rows × 11 columns</p>\n",
       "</div>"
      ],
      "text/plain": [
       "        Unnamed: 0  listing_id         id        date  reviewer_id  \\\n",
       "0                1       50474   10420113  2014-02-18      8184070   \n",
       "1                6       50474   52984230  2015-11-03     19365321   \n",
       "2                8       50474   55534788  2015-12-01      3364197   \n",
       "3               10       50474   56850064  2015-12-19     47757691   \n",
       "4               12       50474   59382872  2016-01-10     50306842   \n",
       "...            ...         ...        ...         ...          ...   \n",
       "111367      354155    40013205  566083416  2019-11-18     97535792   \n",
       "111368      354173    40061613  566475410  2019-11-19      6304935   \n",
       "111369      354179    40080976  568459843  2019-11-24    299364524   \n",
       "111370      354188    40131070  568492128  2019-11-24     34965075   \n",
       "111371      354195    40152175  566040756  2019-11-18    265662103   \n",
       "\n",
       "       reviewer_name                                           comments langs  \\\n",
       "0              Billy  I enjoyed my stay in Santiago, Marcela was ext...    en   \n",
       "1             Seamus  Great apartment near the metro and a good shop...    en   \n",
       "2              Milli  Great place! Really enjoyed the location of wh...    en   \n",
       "3             Andrei  Everything was like in the pictures/descriptio...    en   \n",
       "4            Adriana  Marcela was very helpful and always comunicate...    en   \n",
       "...              ...                                                ...   ...   \n",
       "111367         Johan  Everything was good with Noelia's appartment ,...    en   \n",
       "111368         Ariel  Great little place at the best location in tow...    en   \n",
       "111369          Dvir  The apartment is located in a really good and ...    en   \n",
       "111370       Viviana  Thomas was great and flexible also did respond...    en   \n",
       "111371         Simon  Alejandro is a very kindly host with a beautif...    en   \n",
       "\n",
       "                                                    words  wordcount  \\\n",
       "0       [i, enjoyed, my, stay, in, santiago,, marcela,...         13   \n",
       "1       [great, apartment, near, the, metro, and, a, g...         32   \n",
       "2       [great, place!, really, enjoyed, the, location...         47   \n",
       "3       [everything, was, like, in, the, pictures/desc...         21   \n",
       "4       [marcela, was, very, helpful, and, always, com...         59   \n",
       "...                                                   ...        ...   \n",
       "111367  [everything, was, good, with, noelia's, appart...         15   \n",
       "111368  [great, little, place, at, the, best, location...         16   \n",
       "111369  [the, apartment, is, located, in, a, really, g...         50   \n",
       "111370  [thomas, was, great, and, flexible, also, did,...         29   \n",
       "111371  [alejandro, is, a, very, kindly, host, with, a...         19   \n",
       "\n",
       "            location  \n",
       "0           Santiago  \n",
       "1           Santiago  \n",
       "2           Santiago  \n",
       "3           Santiago  \n",
       "4           Santiago  \n",
       "...              ...  \n",
       "111367  Buenos Aires  \n",
       "111368  Buenos Aires  \n",
       "111369  Buenos Aires  \n",
       "111370  Buenos Aires  \n",
       "111371  Buenos Aires  \n",
       "\n",
       "[111778 rows x 11 columns]"
      ]
     },
     "execution_count": 36,
     "metadata": {},
     "output_type": "execute_result"
    }
   ],
   "source": [
    "test = pd.concat(dfs, sort=False)\n",
    "test"
   ]
  },
  {
   "cell_type": "code",
   "execution_count": 44,
   "metadata": {},
   "outputs": [
    {
     "data": {
      "image/png": "[encoded data removed]",
      "text/plain": [
       "<Figure size 432x288 with 1 Axes>"
      ]
     },
     "metadata": {
      "needs_background": "light"
     },
     "output_type": "display_data"
    }
   ],
   "source": [
    "ax = sns.boxplot(x=\"location\", y=\"wordcount\", data=test, linewidth=1.5)\n",
    "ax.yaxis.grid(True) # Hide the horizontal gridlines\n",
    "# boxplot = test.boxplot(column=['wordcount'], by='location')"
   ]
  },
  {
   "cell_type": "code",
   "execution_count": 49,
   "metadata": {},
   "outputs": [
    {
     "data": {
      "text/plain": [
       "[(0, 250)]"
      ]
     },
     "execution_count": 49,
     "metadata": {},
     "output_type": "execute_result"
    },
    {
     "data": {
      "image/png": "[encoded data removed]",
      "text/plain": [
       "<Figure size 432x288 with 1 Axes>"
      ]
     },
     "metadata": {
      "needs_background": "light"
     },
     "output_type": "display_data"
    }
   ],
   "source": [
    "# closer look at the data\n",
    "ax = sns.boxplot(x=\"location\", y=\"wordcount\", data=test, linewidth=1.5)\n",
    "ax.yaxis.grid(True) # Hide the horizontal gridlines\n",
    "ax.set(ylim=(0, 250))"
   ]
  },
  {
   "cell_type": "code",
   "execution_count": null,
   "metadata": {},
   "outputs": [],
   "source": []
  }
 ],
 "metadata": {
  "kernelspec": {
   "display_name": "Python 3",
   "language": "python",
   "name": "python3"
  },
  "language_info": {
   "codemirror_mode": {
    "name": "ipython",
    "version": 3
   },
   "file_extension": ".py",
   "mimetype": "text/x-python",
   "name": "python",
   "nbconvert_exporter": "python",
   "pygments_lexer": "ipython3",
   "version": "3.6.2"
  }
 },
 "nbformat": 4,
 "nbformat_minor": 2
}
